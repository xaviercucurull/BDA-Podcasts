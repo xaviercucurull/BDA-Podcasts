{
 "cells": [
  {
   "cell_type": "markdown",
   "metadata": {
    "id": "CX0ZDyhSi8-3",
    "tags": []
   },
   "source": [
    "# BDA Final Project\n",
    "# Spotify Podcasts Analysis\n",
    "\n",
    "Xavier Cucurull Salamero\n",
    "\n",
    "December 2021\n",
    "\n",
    "<center><img src='Docs/img/spotify_bda_logo.png'  width=\"500\" ></center>\n",
    "\n"
   ]
  },
  {
   "cell_type": "markdown",
   "metadata": {
    "id": "KqAImhsNjKZk"
   },
   "source": [
    "## 1. Introduction\n",
    "\n",
    "Podcasts are an audio-only mean of communication that is rapidly growing. Spotify, one of the major audio streaming services has recently put more attention into podcasting. Last month the company expanded their Podcast Subscription program to global markets [1] and in their Q3 shareholder letter the company [2] pointed out that podcasts on Spotify are up to 3.2M from 2.9M the previous quarter, maintaining also a strong monthly active users engagement.\n",
    "\n",
    "With the growth of podcasting, getting insights on the market evolution is crucial for many stakeholders. Podchaser, the \"IMDb for podcasts\", which provides payment services targeted at marketers, PR firms, and other professionals to get relevant insights and metrics, announced in January $4M in funding [3].\n",
    "\n",
    "I am a podcast enthusiast and I have recently found myself consuming content that is only available online, as opposed to those podcasts that are also broadcast live on the radio, with some podcasts being Spotify exclusive. In addition, during the COVID-19 lockdown I had the impression that new podcasts were created every week, as if almost everybody wanted to make one. As a result, I thought that conducting an analysis on the podcast market could be really interesting and a good challenge to apply the knowledgee obtained during the course.\n",
    "\n",
    "This project is divided in two parts. First, the development of a podcast scraper using the Spotify API [4] with the goal of constructing a database containing various information about the show such as name, publisher and release date. Second, a big data analysis on the obtained dataset, with the goal of getting insight on the evolution and current state of the podcast market. For simplicity, given the long processing time necessary to construct the database, the scope of the study has been narrowed down to podcasts in Catalan and Spanish, which are my two native languages.\n"
   ]
  },
  {
   "cell_type": "markdown",
   "metadata": {
    "id": "smt3fRXIjcqY",
    "tags": []
   },
   "source": [
    "## 2. Data collection\n",
    "Being a Spotify user, I first searched for their API to see what could be done and I saw that last year Spotify introduced the podcasts API [5]. This seemed promising because compared to other services such as Podchaser, which has a limit of 25,000 monthly/requests on their free plan, Spotify desn't have any restrictions in terms of the total number of queries, only a quota related to the amount of requests that can be made in a 30 seconds window.\n",
    "\n",
    "The main Spotify web API function is \"Search\", which allows to get catalog information about albums, artists, playlists, tracks, shows or episodes that match a keyword string. So in order to get a list of all the podcasts in the Spotify catalog it was necessary to find those keywords that would retrieve them. With the API limit of 1000 responses for request this seemed like an impossible task. How could I think of those words or strings that would lead me to discover the titles of all the podcasts available? Before using the Spotify API to get information about the shows I needed to find a list of podcast names. To do that I thought of another podcast provider, Apple's iTunes [6]. Being part of the Apple Developer Program costs $99 [7], which is not affordable for the scope of this project. Since I just needed to get a list of the names of all the podcasts available on the iTunes catalog, I could write a simple Python script to perform the web scraping. Once I got this list, I could search for each of the names using the Spotify API. Below there is a diagram of the database creation process.\n",
    "\n",
    "<center><figure>\n",
    "    <img src='Docs/img/database_creation_diagram.png' width=\"450\">\n",
    "    <figcaption><i>Fig 1. Database creation diagram<i><figcaption>\n",
    "<figure></center>\n",
    "        \n",
    "\n",
    "### 2.1. Apple Podcasts scraper\n",
    "The first part of the database construction is the Apple Podcasts scraper. This Python script uses the ```requests``` and ```beautifulsoup``` packages to parse the html files of the Apple Podcasts page, exploring all the different categories, and creates a CSV table with the title and genre of all the podcasts in the catalog.\n",
    "\n",
    "Since the podcast shows are sorted by genre, the first step is to get all the genres and their corresponding url. Figure 2 shows the rendred website and the html code of the iTunes Podcast genres page.\n",
    "\n",
    "<center><figure>\n",
    "    <img src='Docs/img/apple_podcasts_website.png' width=\"750\">\n",
    "    <figcaption><i>Fig 2. iTunes Podcasts website - Genres<i><figcaption>\n",
    "<figure></center>   \n",
    "\n",
    "        \n",
    "Next, for each of the genres, the script iterates over all the pages that exist for each of the letters, as podcasts pages are organized and sorted alphabetically. Figure 3 shows the podcasts page for the genre \"Arte\".\n",
    "        \n",
    "<center><figure>\n",
    "    <img src='Docs/img/apple_podcasts_selectedgenre.png' width=\"750\">\n",
    "    <figcaption><i>Fig 3. iTunes Podcasts website - Shows<i><figcaption>\n",
    "<figure></center> \n",
    "\n",
    "The following code snippet, adapted from the ```get_podcasts_from_page``` function from the ```apple_podcats_scraper.py``` script, shows how a list of podcast titles can be obtained given the genre url, an alphabet letter and a page.\n",
    "\n",
    "        \n",
    "```python\n",
    "url = f'{genre_url}?letter={letter}&page={page}'\n",
    "response = requests.get(url)\n",
    "\n",
    "soup = BeautifulSoup(response.text, 'html.parser')\n",
    "selected_genre = soup.find(id='selectedgenre')\n",
    "podcasts = selected_genre.find(id='selectedcontent').find_all('li')\n",
    "\n",
    "podcasts_list.extend([p.get_text().rstrip() for p in podcasts])\n",
    "\n",
    "```\n",
    "\n",
    "Scraping content from the Apple iTunes Podcast webpage is a relatively simple process, since not a very high number of requests need to be made. As a result, the whole process was executed in 52 minutes, obtaining a final list of 2,056,848 podcasts. Below there's an extract of the debug messages printed by the ```apple_podcats_scraper.py``` script.\n",
    "        \n",
    "```\n",
    "[12:36:45] Starting podcast scraping...\n",
    "[12:36:45] Retrieving \"Arte\" podcasts...\n",
    "\tLetter A: 15360 podcasts (64 pages)\n",
    "\tLetter B: 11760 podcasts (49 pages)\n",
    "\tLetter C: 15600 podcasts (65 pages)\n",
    "\tLetter D: 10320 podcasts (43 pages)\n",
    "\tLetter E: 7440 podcasts (31 pages)\n",
    "\tLetter F: 7440 podcasts (31 pages)\n",
    "\tLetter G: 5760 podcasts (24 pages)\n",
    "\tLetter H: 7440 podcasts (31 pages)\n",
    "\tLetter I: 6000 podcasts (25 pages)\n",
    "```\n",
    "\n",
    "### 2.2. Spotify Podcasts scraper\n",
    "        \n",
    "The second and most important part of the database construction is the Spotify Podcast scraper. Using the list of Apple podcasts and Spotipy, which is a Python library for the Spotify Web API, this script iterates over each of the titles on the previously obtained podcast list and uses the search function to get those shows that match the provided string. Since some titles availabe in the Apple podcast list might not be present in the Spotify catalog and vice-versa, for each given title a maximum (configurable) number of 10 shows are retrieved. This allows for more \"exploration\" of the Spotify catalog, being able to discover shows that were not present in the original podcasts list. When searching for a show, the Spotify API returns information about the **id**, the **name**, the **description**, the **publisher**, the **total number of episodes**, whether it is flagged as **explicit**, the **languages** and **media type**. In order to obtain information about the release date and the date of the last show, the next step is to retrieve the episodes corresponding to each of the show. Since getting episode information adds a lot of overhead to the database creation process, at this step shows with languages Catalan (\"ca\") or Spanish (\"es) are filtered. In addition, in order to reduce the number of API calls, only a maximum number of 100 episodes (containing the first and the last) are retrieved. With those episodes, we obtain the **release date** of the show, the **last date** of the newest episode and the **average duration** of the episodes. Finally, the show is added to the database. Since the show id is used as a unique id in the database, the addition of duplicate entries is avoided.\n",
    "\n",
    "The process of scraping the Spotify catalog to create the podcasts database has been remarkably more complicated than obtaining the Apple podcast list. In order to avoid timeout errors, the Spotipy client has been configured with a high request timeout of 60 and the number of retries have also been increased to 10. In addition to that, a wait-retry strategy has also been implemented in order to overcome bad responses.\n",
    "\n",
    "The Apple podcasts list (```data/apple_podcasts.csv```) has a size of 76MB, so loading all its content in memory is perfecly feasible. However, in order to replicate a real-world scenario where the file to read is too big to read in memory, it is read in batches. In addition, in order to speed up the scraping process, the shows are retrieved in parallel using Python's ```multiprocessing```. Podcasts title are read in batches of 1000 and then processed. This batch approach also allows to stop the scraping process and start it later on, by indicating an *offset* so that a number of batches are skipped. This proved to be very useful since the process was sometimes interrupted due to connection problems or because the computer froze. \n",
    "        \n",
    "The ```SpotifyScraper``` class has been implemented in ```spotify_podcasts_scraper.py``` and the script that retrieves the shows and episode information and constructs the database is ```build_database.py```. Below there's an extract of the debug messages printed by the ```build_database.py``` script.\n",
    "        \n",
    "```\n",
    "[14:03:50] Processing batch 1478. 579 remaining...\n",
    "[14:05:48] 1034 shows retrieved from batch of 1000\n",
    "\n",
    "[14:05:48] Processing batch 1479. 578 remaining...\n",
    "Spotipy search error! Retrying in 30s...\n",
    "[14:09:40] 690 shows retrieved from batch of 1000\n",
    "\n",
    "```\n",
    "The number of shows retrieved correspond to those shows that are in Spanish or Catalan. Notice that it is possible than more than 1000 shows are retrieved from the batch because of the \"exploration\" mentioned above.\n",
    "\n",
    "T\n",
    "After the whole building process, which has taken 3 days and 23:18:52, a database with 263,202\n",
    "        \n",
    " \n",
    "### 2.3. MongoDB database\n",
    "Given the relative simplicity of the database to create and because of the fact that only one database -the podcasts database- is needed, MongoDB has been chosen for the project. \n",
    "\n",
    "The same docker container as the one used in Lab03 has been used. It is created by opening a terminal and running the following command:\n",
    "```docker run --name bda-mongo -e MONGO_INITDB_ROOT_USERNAME=mongoadmin -e MONGO_INITDB_ROOT_PASSWORD=pass1234 -d -p 27017:27017 mongo```\n",
    "        \n",
    "Once the container is running, the Python script connects to it and creates a database called ```finalproject``` and a collection with the name ```podcasts```, where the podcasts are stored. As learned in Lab03, Compass can be used to access the database using a graphical user interface. In addition, by connecting to the computer's IP and port it can even be accessed from another computer. In my case, I used a desktop computer running Ubuntu 20.04 to construct the database but I also monitored it using Compass on a laptop running macOS.\n",
    "\n",
    "<center><figure>\n",
    "    <img src='Docs/img/compass.png' width=\"750\">\n",
    "    <figcaption><i>Fig 4. MongoDB Compass<i><figcaption>\n",
    "<figure></center> \n",
    "\n",
    "\n",
    "### 2.4. Limitations\n",
    "This method, although effective to build a big dataset that is representative of the podcasts market, has some limitations. First of all, although most podcasters try to have their show in platforms such as iTunes or Spotify, that is not always the case. In addition, with Spotify's increasing interest in podcasting, there are nowadays shows that are exclusive to Spotify. The titles of these shows don't appear on the Apple Podcasts list and, as a result, might be missed when scraping Spotify. One example is the podcast \"Oye Polo\", from Radio Primavera Sound, which was not captured by the database constructing method. \n",
    "\n",
    "### 2.5. Code Documentation\n",
    "All the Python scripts developed in this project have been documented using Docstrings and the corresponding documentation has been generated using Sphinx. As a reference, the documentation of all the code related to the database construction process can be found in the ```Docs/build/html``` directory or [here](Docs/build/html/py-modindex.html)."
   ]
  },
  {
   "cell_type": "markdown",
   "metadata": {
    "id": "PulRLCZGjd-w"
   },
   "source": [
    "## 3. Data description\n",
    "In this section I will present the different fields of the documents of the database. I will use as an illustrative example the show \"Gent de Merda\", as shown in Compass.\n",
    "\n",
    "<center><figure>\n",
    "    <img src='Docs/img/compass_gentdemerda.png' width=\"550\">\n",
    "    <figcaption><i>Fig 5. Document example in Compass<i><figcaption>\n",
    "<figure></center> \n",
    "        \n",
    "Fields description:\n",
    "        \n",
    "- **_id**: MongoDB document identifier (ObjectId)\n",
    "        \n",
    "- **name**: Podcast name (string)\n",
    "        \n",
    "- **publisher**: Podcast publisher (string)\n",
    "        \n",
    "- **explicit**: Explicit content (boolean)\n",
    "        \n",
    "- **media_type**: Type of content (string)\n",
    "        \n",
    "- **id**: Spotify show ID (string)\n",
    "        \n",
    "- **languages**: A list of the languages used in the show, identified by their ISO 639 code (list of strings)\n",
    "        \n",
    "- **description**: Podcast description (string)\n",
    "        \n",
    "- **total_episodes**: Total number of episodes (int)\n",
    "        \n",
    "- **average_duration_min**: Average episode duration in minutes (int)\n",
    "        \n",
    "- **release_date**: Publishing date of the first episode\n",
    "    - *year*: (int)\n",
    "    - *month*: (int)\n",
    "    - *day*: (int)\n",
    "        \n",
    "- **last_date**: Publishing date of the last episode\n",
    "    - *year*: (int)\n",
    "    - *month*: (int)\n",
    "    - *day*: (int)\n",
    "        \n",
    "- **date_precision**: The precision with which the dates are known (string)\n"
   ]
  },
  {
   "cell_type": "markdown",
   "metadata": {},
   "source": [
    "## 4. Data preprocessing\n",
    "\n",
    "Data preprocessing is an important step of the whole big data analysis process. It is important to identify and clean possible errors regarding missing values, outliers, etc. In our case, since all the data has been obtained using the Spotify API, it is not very likely that we will find a lot of noise or errors in the data. However, since the goal of the project is to study the podcasts market, it might be important to identify those shows which don't provide any significant information. For example, that would be podcasts without any episodes or with episodes of a duration of just seconds.\n",
    "\n",
    "From now on, all the programming will take place in this Jupyter Notebook, using PyMongo to connect to the podcasts MongoDB database.\n",
    "\n",
    "### 4.1. Connect to the database\n",
    "First, we connect to the MongoDB database:"
   ]
  },
  {
   "cell_type": "code",
   "execution_count": 1,
   "metadata": {
    "id": "odgKOn5tqEru"
   },
   "outputs": [],
   "source": [
    "import pymongo\n",
    "from pprint import pprint\n",
    "\n",
    "# Connect to the MongoDB\n",
    "client = pymongo.MongoClient('localhost', 27017, username='mongoadmin', password='pass1234')\n",
    "\n",
    "# Get already created database\n",
    "database = client['finalproject']\n",
    "\n",
    "# Get podcasts collections\n",
    "podcasts = database.podcasts"
   ]
  },
  {
   "cell_type": "code",
   "execution_count": 2,
   "metadata": {
    "colab": {
     "base_uri": "https://localhost:8080/",
     "height": 345
    },
    "id": "vjbgPz1sqR8J",
    "outputId": "0eebfde2-7557-4009-d780-31f3187243e5"
   },
   "outputs": [
    {
     "name": "stdout",
     "output_type": "stream",
     "text": [
      "263202\n"
     ]
    }
   ],
   "source": [
    "# Show total number of podcasts in the database\n",
    "total_num_podcasts = podcasts.count_documents({})\n",
    "print(total_num_podcasts)"
   ]
  },
  {
   "cell_type": "markdown",
   "metadata": {},
   "source": [
    "Since I want to leave the original database intact, I will copy the ```podcasts``` collection and make all the changes on this duplicate."
   ]
  },
  {
   "cell_type": "code",
   "execution_count": 3,
   "metadata": {},
   "outputs": [
    {
     "name": "stdout",
     "output_type": "stream",
     "text": [
      "263202\n"
     ]
    }
   ],
   "source": [
    "# Copy \"podcasts\" to \"podcasts_preprocessed\"\n",
    "pipeline = [ {\"$match\": {}}, \n",
    "             {\"$out\": \"podcasts_preprocessed\"},\n",
    "           ]\n",
    "\n",
    "podcasts.aggregate(pipeline)\n",
    "\n",
    "# Check size of new collection\n",
    "podcasts_prep = database.podcasts_preprocessed\n",
    "total_num_podcasts_prep = podcasts_prep.count_documents({})\n",
    "print(total_num_podcasts)"
   ]
  },
  {
   "cell_type": "markdown",
   "metadata": {
    "id": "vHeE2FGFqk_l"
   },
   "source": [
    "### 4.2. Missing values\n",
    "Missing values shall be specified as ```null``` in MongoDB. In pymongo these ```null``` values are interpreted as ```None``` so in our case, to find missing values using Python we will query for ```None``` values.\n",
    "\n",
    "As mentioned in section 3, some cases of ```null``` values appear when a podcast has no episodes. For those episodes where the number of ```total_episodes``` is 0, the ```average_duration_min```, ```release_date``` and ```last_date``` have ```null``` values."
   ]
  },
  {
   "cell_type": "code",
   "execution_count": 4,
   "metadata": {},
   "outputs": [
    {
     "name": "stdout",
     "output_type": "stream",
     "text": [
      "There are 129 shows (0.00049%) with 0 episodes.\n",
      "\n",
      "Example:\n",
      "{'_id': ObjectId('61b276d16015f8bce7c4ea04'),\n",
      " 'average_duration_min': None,\n",
      " 'last_date': {'day': None, 'month': None, 'year': None},\n",
      " 'name': 'KAIJUDEPU!',\n",
      " 'release_date': {'day': None, 'month': None, 'year': None}}\n"
     ]
    }
   ],
   "source": [
    "# Show None values of show with 0 episodes\n",
    "num_shows_0_ep = podcasts_prep.count_documents({'total_episodes': 0})\n",
    "example = podcasts_prep.find_one({'total_episodes': 0}, {'name': 1, 'release_date' : 1, 'last_date': 1, 'average_duration_min' : 1})\n",
    "\n",
    "print(f'There are {num_shows_0_ep} shows ({num_shows_0_ep/total_num_podcasts_prep:.5f}%) with 0 episodes.\\n\\nExample:')\n",
    "pprint(example)"
   ]
  },
  {
   "cell_type": "markdown",
   "metadata": {},
   "source": [
    "The number of shows with a number of zero episodes is neglectable compared to the total number of shows that the database contains. However, since they don't give important information for our analysis, they can be removed from the database so as to have cleaner data from which to continue the analysis."
   ]
  },
  {
   "cell_type": "code",
   "execution_count": 5,
   "metadata": {},
   "outputs": [
    {
     "name": "stdout",
     "output_type": "stream",
     "text": [
      "129 documents deleted\n"
     ]
    }
   ],
   "source": [
    "# Remove shows with 0 episodes\n",
    "res = podcasts_prep.delete_many({'total_episodes': 0})\n",
    "print(f'{res.deleted_count} documents deleted')"
   ]
  },
  {
   "cell_type": "markdown",
   "metadata": {},
   "source": [
    "Let's see if there are still podcasts with missing values in their date related fields."
   ]
  },
  {
   "cell_type": "code",
   "execution_count": 6,
   "metadata": {},
   "outputs": [
    {
     "data": {
      "text/plain": [
       "19"
      ]
     },
     "execution_count": 6,
     "metadata": {},
     "output_type": "execute_result"
    }
   ],
   "source": [
    "podcasts_prep.count_documents({'date_precision':None})"
   ]
  },
  {
   "cell_type": "code",
   "execution_count": 7,
   "metadata": {},
   "outputs": [
    {
     "data": {
      "text/plain": [
       "19"
      ]
     },
     "execution_count": 7,
     "metadata": {},
     "output_type": "execute_result"
    }
   ],
   "source": [
    "podcasts_prep.count_documents({'release_date.year':None})"
   ]
  },
  {
   "cell_type": "code",
   "execution_count": 8,
   "metadata": {},
   "outputs": [
    {
     "data": {
      "text/plain": [
       "[1]"
      ]
     },
     "execution_count": 8,
     "metadata": {},
     "output_type": "execute_result"
    }
   ],
   "source": [
    "podcasts_prep.find({'date_precision':None}).distinct('total_episodes')"
   ]
  },
  {
   "cell_type": "code",
   "execution_count": 9,
   "metadata": {},
   "outputs": [
    {
     "data": {
      "text/plain": [
       "{'_id': ObjectId('61b279066015f8bce7c4f1a0'),\n",
       " 'name': 'Alto Parlante',\n",
       " 'publisher': 'MisPodcasts.com',\n",
       " 'explicit': False,\n",
       " 'media_type': 'audio',\n",
       " 'id': '4mQVP2o3DvRJZRa54Os0gz',\n",
       " 'languages': ['es'],\n",
       " 'description': 'Todo lo que me llamó la atención en el pasado y lo que me moviliza en el presente. El rock, la radio, los libros, el cine… la vida que me hizo un locutor.',\n",
       " 'total_episodes': 1,\n",
       " 'average_duration_min': None,\n",
       " 'release_date': {'year': None, 'month': None, 'day': None},\n",
       " 'last_date': {'year': None, 'month': None, 'day': None},\n",
       " 'date_precision': None}"
      ]
     },
     "execution_count": 9,
     "metadata": {},
     "output_type": "execute_result"
    }
   ],
   "source": [
    "podcasts_prep.find_one({'release_date.year':None})\n"
   ]
  },
  {
   "cell_type": "markdown",
   "metadata": {},
   "source": [
    "It seems that there are shows with more 1 episode that have missing values on the dates. That's a bit strange. If we use the ```id``` of the previous example and go to the website https://open.spotify.com/show/4mQVP2o3DvRJZRa54Os0gz we see that the podcast doesn't have any episodes. Erroneously, the Spotify API has returned 1 for the ```total_episodes``` when the show in fact has none. These podcasts should be removed too."
   ]
  },
  {
   "cell_type": "code",
   "execution_count": 10,
   "metadata": {},
   "outputs": [
    {
     "name": "stdout",
     "output_type": "stream",
     "text": [
      "19 documents deleted\n"
     ]
    }
   ],
   "source": [
    "# Remove shows with no dates (actually 0 episodes)\n",
    "res = podcasts_prep.delete_many({'date_precision':None})\n",
    "print(f'{res.deleted_count} documents deleted')"
   ]
  },
  {
   "cell_type": "markdown",
   "metadata": {},
   "source": [
    "### 4.3. Outliers\n",
    "\n",
    "Appart from removing those podcasts which don't have any episodes, it is also important to analayze if there are any outliers that shall be removed.\n",
    "\n",
    "Let's start by looking at the duration of the episodes."
   ]
  },
  {
   "cell_type": "markdown",
   "metadata": {},
   "source": [
    "``` python\n",
    "\n",
    "# Grouped by occupation\n",
    "pipeline = [\n",
    "        {'$match': {'$and': [\n",
    "                            {'education.num': {'$gte': 10}},\n",
    "                            {'work.occupation': {'$ne': 'Tech_support'}},\n",
    "                            {'work.occupation': {'$ne': 'Sales'}},\n",
    "                            {'work.occupation': {'$ne': 'Exec_managerial'}},\n",
    "                            {'work.occupation': {'$ne': 'Prof_specialty'}},\n",
    "                            {'work.occupation': {'$ne': 'Adm_clerical'}},\n",
    "                            {'work.occupation': {'$ne': None}}\n",
    "                            ]}},\n",
    "        { \"$group\": {\n",
    "            \"_id\": {\"occupation\": \"$work.occupation\"},\n",
    "            \"count\": { \"$sum\": 1 }\n",
    "        }},\n",
    "    \n",
    "        {\"$sort\": SON([(\"count\", pymongo.DESCENDING)])}    \n",
    "]\n",
    "```"
   ]
  },
  {
   "cell_type": "code",
   "execution_count": 11,
   "metadata": {},
   "outputs": [
    {
     "name": "stdout",
     "output_type": "stream",
     "text": [
      "{'_id': None, 'MaximumValue': 690.43, 'MinimumValue': 0.01}\n"
     ]
    }
   ],
   "source": [
    "# Min and Max average episode durations (greater than 0)\n",
    "pipeline = [\n",
    "            {\"$match\": {'average_duration_min': {'$gt': 0}}},\n",
    "            {\"$group\": {\n",
    "                  \"_id\": None,\n",
    "                  \"MaximumValue\": { \"$max\": \"$average_duration_min\" },\n",
    "                  \"MinimumValue\": { \"$min\": \"$average_duration_min\" }\n",
    "            }}\n",
    "]\n",
    "\n",
    "c = podcasts_prep.aggregate(pipeline)\n",
    "print(list(c)[0])"
   ]
  },
  {
   "cell_type": "markdown",
   "metadata": {},
   "source": [
    "As seen above, the range of duration in minutes spans from just a second to more than 11 hours. A podcast episode of just some seconds is difficult to really be considered a valid show. Let's further analyse shows with a very low average episode duration."
   ]
  },
  {
   "cell_type": "code",
   "execution_count": 12,
   "metadata": {},
   "outputs": [
    {
     "name": "stdout",
     "output_type": "stream",
     "text": [
      "There are 6131 (0.0233%) podcasts with an average episode duration lower than 30 seconds\n"
     ]
    }
   ],
   "source": [
    "# Podcasts with an average duration of less than 30 seconds\n",
    "n_lt_30s = podcasts_prep.count_documents({'average_duration_min': {'$lt': 0.5}})\n",
    "\n",
    "print(f'There are {n_lt_30s} ({n_lt_30s/total_num_podcasts_prep:.4f}%) podcasts with an average episode duration lower than 30 seconds')"
   ]
  },
  {
   "cell_type": "markdown",
   "metadata": {
    "tags": []
   },
   "source": [
    "Although compared to the total number of podcasts the number of podcasts with a (very) low average duration is not very high, it is still curious to see that the number is more than 5,000. Let's now look at how many of these podcasts have more than one or two episode."
   ]
  },
  {
   "cell_type": "code",
   "execution_count": 13,
   "metadata": {},
   "outputs": [
    {
     "name": "stdout",
     "output_type": "stream",
     "text": [
      "There are 590 (0.10%) podcasts with an average episode duration lower than 10 seconds that have more than one episode\n",
      "There are 188 (0.03%) podcasts with an average episode duration lower than 10 seconds that have more than two episodes\n"
     ]
    }
   ],
   "source": [
    "# AND total episodes more than...\n",
    "n_lt30_gt1 = podcasts_prep.count_documents({'$and': [\n",
    "                            {'average_duration_min': {'$lt': 0.5}},\n",
    "                            {'total_episodes': {'$gt': 1}}\n",
    "                            ]})\n",
    "\n",
    "n_lt30_gt2 = podcasts_prep.count_documents({'$and': [\n",
    "                            {'average_duration_min': {'$lt': 0.5}},\n",
    "                            {'total_episodes': {'$gt': 2}}\n",
    "                            ]})\n",
    "\n",
    "print(f'There are {n_lt30_gt1} ({n_lt30_gt1/n_lt_30s:.2f}%) podcasts with an average episode duration lower than 10 seconds that have more than one episode')\n",
    "print(f'There are {n_lt30_gt2} ({n_lt30_gt2/n_lt_30s:.2f}%) podcasts with an average episode duration lower than 10 seconds that have more than two episodes')\n",
    "# n_lt60_gt5"
   ]
  },
  {
   "cell_type": "markdown",
   "metadata": {},
   "source": [
    "From all the podcasts with an average epidose duration lower than 30 seconds, only a small fraction have more than one or two episodes.\n",
    "\n",
    "We can consider that the shows with a short average episode duration are outliers that will not provide insightful information for our analysis. Therefore, we can also remove them."
   ]
  },
  {
   "cell_type": "code",
   "execution_count": 14,
   "metadata": {},
   "outputs": [
    {
     "name": "stdout",
     "output_type": "stream",
     "text": [
      "6131 documents deleted\n"
     ]
    }
   ],
   "source": [
    "# Remove shows with average duration lower than 30s\n",
    "res = podcasts_prep.delete_many({'average_duration_min': {'$lt': 0.5}})\n",
    "\n",
    "print(f'{res.deleted_count} documents deleted')"
   ]
  },
  {
   "cell_type": "code",
   "execution_count": 15,
   "metadata": {},
   "outputs": [
    {
     "name": "stdout",
     "output_type": "stream",
     "text": [
      "{'_id': None, 'Min avergage duration (minutes)': 0.5, 'Max avergage duration (minutes)': 690.43}\n"
     ]
    }
   ],
   "source": [
    "c = podcasts_prep.aggregate([\n",
    "   { \"$group\": {\n",
    "      \"_id\": None,\n",
    "      \"Min avergage duration (minutes)\": { \"$min\": \"$average_duration_min\" },\n",
    "      \"Max avergage duration (minutes)\": { \"$max\": \"$average_duration_min\" }\n",
    "   }}\n",
    "])\n",
    "\n",
    "print(list(c)[0])"
   ]
  },
  {
   "cell_type": "markdown",
   "metadata": {},
   "source": [
    "Now the minimum average episode duration is 30 seconds."
   ]
  },
  {
   "cell_type": "markdown",
   "metadata": {},
   "source": [
    "### 4.4 Duplicates\n",
    "The last preprocessing and data cleaning step is to find if the database contains any duplicate records. During the database creationg process it has been assured that the same podcast (with its unique Spotify ID) is not added more than once. However, it might be possible that the Spotify catalog contains duplicate shows that have in turn been added to our database."
   ]
  },
  {
   "cell_type": "code",
   "execution_count": 16,
   "metadata": {},
   "outputs": [
    {
     "name": "stdout",
     "output_type": "stream",
     "text": [
      "There are 8203 podcasts with duplicate names.\n",
      "\n",
      "Example:\n",
      " {'_id': 'Narraciones', 'publisher': ['Mictlanteca', 'Ale Sanz', 'El Mundo Inteligible'], 'count': 3}\n"
     ]
    }
   ],
   "source": [
    "# Find podcasts with the same name\n",
    "c = podcasts_prep.aggregate(\n",
    "    [\n",
    "        {\"$group\": {\"_id\": \"$name\", \"publisher\": {\"$addToSet\": \"$publisher\"}, \"count\": {\"$sum\": 1}}},\n",
    "        {\"$match\": {\"count\": { \"$gt\": 1 }}},\n",
    "        {\"$count\": \"totalCount\"}\n",
    "    ]\n",
    ")\n",
    "print(f'There are {list(c)[0][\"totalCount\"]} podcasts with duplicate names.')\n",
    "\n",
    "# Example\n",
    "c = podcasts_prep.aggregate(\n",
    "    [\n",
    "        {\"$group\": {\"_id\": \"$name\", \"publisher\": {\"$addToSet\": \"$publisher\"}, \"count\": {\"$sum\": 1}}},\n",
    "        {\"$match\": {\"count\": { \"$gt\": 1 }, \"_id\": \"Narraciones\"}}\n",
    "    ]\n",
    ")\n",
    "print(f'\\nExample:\\n {list(c)[0]}')"
   ]
  },
  {
   "cell_type": "markdown",
   "metadata": {},
   "source": [
    "We can see in the example above that there are three shows with the name _\"Narraciones\"_. However, the publishers are different, so they are most probably different shows.\n"
   ]
  },
  {
   "cell_type": "code",
   "execution_count": 17,
   "metadata": {},
   "outputs": [
    {
     "name": "stdout",
     "output_type": "stream",
     "text": [
      "There are 1412 podcasts with duplicate name and publisher.\n",
      "\n",
      "Example:\n",
      " {'_id': {'name': 'La Trinchera', 'publisher': 'La Trinchera'}, 'total_episodes': [4, 10], 'count': 2}\n"
     ]
    }
   ],
   "source": [
    "# Find podcasts with the same name and publisher\n",
    "c = podcasts_prep.aggregate(\n",
    "    [\n",
    "        {\"$group\": {\"_id\": {\"name\": \"$name\", \"publisher\": \"$publisher\"}, \"total_episodes\": {\"$addToSet\": \"$total_episodes\"}, \"count\": {\"$sum\": 1}}},\n",
    "        {\"$match\": {\"count\": { \"$gt\": 1 }}},\n",
    "        { \"$count\": \"totalCount\"}\n",
    "    ]\n",
    ")\n",
    "print(f'There are {list(c)[0][\"totalCount\"]} podcasts with duplicate name and publisher.')\n",
    "\n",
    "# Example\n",
    "c = podcasts_prep.aggregate(\n",
    "    [\n",
    "        {\"$group\": {\"_id\": {\"name\": \"$name\", \"publisher\": \"$publisher\"}, \"total_episodes\": {\"$addToSet\": \"$total_episodes\"}, \"count\": {\"$sum\": 1}}},\n",
    "        {\"$match\": {\"count\": { \"$gt\": 1 }, \"_id\": {\"name\": \"La Trinchera\", \"publisher\": \"La Trinchera\"}}}\n",
    "    ]\n",
    ")\n",
    "print(f'\\nExample:\\n {list(c)[0]}')"
   ]
  },
  {
   "cell_type": "markdown",
   "metadata": {},
   "source": [
    "As expected, the number of shows with the same name and publisher is just a fraction of the number of podcasts with the same name. In the example above, we see that there are two shows with the same name and publisher but with different number of episodes. Since we have access to the origin of the data (Spotify) we can search for these two podcasts to see how different or similar they are. By looking at Spotify we can see that both podcasts are completely different."
   ]
  },
  {
   "cell_type": "code",
   "execution_count": 18,
   "metadata": {},
   "outputs": [
    {
     "name": "stdout",
     "output_type": "stream",
     "text": [
      "There are 834 podcasts with duplicate name, publisher and number of episodes\n"
     ]
    }
   ],
   "source": [
    "# Find podcasts with the same name, publisher, number of episodes and release year\n",
    "# addToSet document id, to use later for removal\n",
    "c = podcasts_prep.aggregate(\n",
    "    [\n",
    "        {\"$group\": {\"_id\": {\"name\": \"$name\", \"publisher\": \"$publisher\", \"episodes\": \"$total_episodes\", \"release_year\": \"$release_date.year\"},\n",
    "                    \"count\": {\"$sum\": 1}}},\n",
    "        {\"$match\": {\"count\": { \"$gt\": 1 }}},\n",
    "        { \"$count\": \"totalCount\"}\n",
    "    ]\n",
    ")\n",
    "\n",
    "print(f'There are {list(c)[0][\"totalCount\"]} podcasts with duplicate name, publisher and number of episodes')"
   ]
  },
  {
   "cell_type": "markdown",
   "metadata": {},
   "source": [
    "Podcasts that have the same _name_, _publisher_, _total_episodes_ and _release_date.year_ can be considered to be duplicated. To clean the database, duplicate podcasts are removed and only one document for each show is kept."
   ]
  },
  {
   "cell_type": "code",
   "execution_count": 19,
   "metadata": {},
   "outputs": [
    {
     "name": "stdout",
     "output_type": "stream",
     "text": [
      "878 documents deleted\n"
     ]
    }
   ],
   "source": [
    "# Find podcasts with the same name, publisher, number of episodes and release year\n",
    "# addToSet document id, to use later for removal\n",
    "c = podcasts_prep.aggregate(\n",
    "    [\n",
    "        {\"$group\": {\"_id\": {\"name\": \"$name\", \"publisher\": \"$publisher\", \"episodes\": \"$total_episodes\", \"release_year\": \"$release_date.year\"},\n",
    "                    \"id\": {\"$addToSet\": \"$_id\"}, \"count\": {\"$sum\": 1}}},\n",
    "        {\"$match\": {\"count\": { \"$gt\": 1 }}}\n",
    "    ]\n",
    ")\n",
    "\n",
    "# Remove duplicates\n",
    "ids_to_remove = []\n",
    "\n",
    "for doc in c:\n",
    "    ids_to_remove.extend(doc['id'][1:])    # keep one id, remove rest\n",
    "    \n",
    "res = podcasts_prep.delete_many({\"_id\": {\"$in\": ids_to_remove}})\n",
    "print(f'{res.deleted_count} documents deleted')"
   ]
  },
  {
   "cell_type": "markdown",
   "metadata": {
    "id": "KUn6qnVkjgtW"
   },
   "source": [
    "## 5. Data analysis\n",
    "After cleaning the database by removing duplicate shows and podcasts that don't contain relevant information, that is, shows without episodes or with an average episode duration of just seconds, we can proceed with the data analaysis."
   ]
  },
  {
   "cell_type": "code",
   "execution_count": 120,
   "metadata": {},
   "outputs": [],
   "source": [
    "# Use Matplotlib and Seaborn for visualization\n",
    "import seaborn as sns\n",
    "import matplotlib.pyplot as plt\n",
    "import numpy as np\n",
    "\n",
    "sns.set(font_scale=1.2)"
   ]
  },
  {
   "cell_type": "markdown",
   "metadata": {
    "tags": []
   },
   "source": [
    "### 5.1. Exploratory Data Analysis\n",
    "\n",
    "First of all we will visualize each of the variables, both numerical and categorical, to start to get a sense of the dataset.\n",
    "(means, medians, quantiles, histograms, boxplots\n",
    "• You should always look at every variable - you will learn something!)"
   ]
  },
  {
   "cell_type": "code",
   "execution_count": 123,
   "metadata": {},
   "outputs": [],
   "source": [
    "def categorical_count(collection, field):\n",
    "    labels = []\n",
    "    counts = []\n",
    "    \n",
    "    res = collection.aggregate([{'$group': {'_id': f'${field}', 'count': {'$sum': 1}}}])\n",
    "\n",
    "    for sample in res:\n",
    "        labels.append(str(sample['_id']))\n",
    "        counts.append(sample['count'])\n",
    "\n",
    "    return labels, counts\n",
    "\n",
    "def plot_count(collection, field):\n",
    "    labels, counts = categorical_count(collection, field)\n",
    "    \n",
    "    figure(figsize=(8, 5))\n",
    "    sns.barplot(x=labels, y=counts)\n",
    "    plt.xlabel(field)\n",
    "    plt.ylabel(\"Number of Podcasts\");\n"
   ]
  },
  {
   "cell_type": "markdown",
   "metadata": {},
   "source": [
    "#### 5.1.1 Categorical Variables"
   ]
  },
  {
   "cell_type": "code",
   "execution_count": null,
   "metadata": {},
   "outputs": [
    {
     "data": {
      "text/plain": [
       "[\"['es']\", \"['ca']\"]"
      ]
     },
     "execution_count": 101,
     "metadata": {},
     "output_type": "execute_result"
    }
   ],
   "source": [
    "# Languages\n",
    "labels, counts = categorical_count(podcasts_prep, 'languages')\n",
    "\n",
    "\n",
    "\n",
    "# sns.barplot(labels, counts)\n",
    "# plt.xlabel(\"Target  ->\")\n",
    "# plt.ylabel(\"Frequency  ->\");\n",
    "\n",
    "# plt.bar([1, 2], counts)\n",
    "# plt.show()\n",
    "\n",
    "labels"
   ]
  },
  {
   "cell_type": "code",
   "execution_count": 125,
   "metadata": {},
   "outputs": [
    {
     "data": {
      "image/png": "[encoded data removed]",
      "text/plain": [
       "<Figure size 576x360 with 1 Axes>"
      ]
     },
     "metadata": {},
     "output_type": "display_data"
    }
   ],
   "source": [
    "figure(figsize=(8, 5))\n",
    "sns.barplot(x=labels, y=counts)\n",
    "plt.yscale('log')\n",
    "plt.xlabel(\"Languages\")\n",
    "plt.ylabel(\"Number of Podcasts\");\n"
   ]
  },
  {
   "cell_type": "code",
   "execution_count": 124,
   "metadata": {},
   "outputs": [
    {
     "data": {
      "image/png": "[encoded data removed]",
      "text/plain": [
       "<Figure size 576x360 with 1 Axes>"
      ]
     },
     "metadata": {},
     "output_type": "display_data"
    }
   ],
   "source": [
    "plot_count(podcasts_prep, 'languages')"
   ]
  },
  {
   "cell_type": "code",
   "execution_count": 127,
   "metadata": {},
   "outputs": [
    {
     "data": {
      "text/plain": [
       "[254428, 1617]"
      ]
     },
     "execution_count": 127,
     "metadata": {},
     "output_type": "execute_result"
    }
   ],
   "source": [
    "counts"
   ]
  },
  {
   "cell_type": "code",
   "execution_count": 131,
   "metadata": {},
   "outputs": [
    {
     "data": {
      "text/plain": [
       "Text(1, 2017, '1617')"
      ]
     },
     "execution_count": 131,
     "metadata": {},
     "output_type": "execute_result"
    },
    {
     "data": {
      "image/png": "[encoded data removed]",
      "text/plain": [
       "<Figure size 720x504 with 1 Axes>"
      ]
     },
     "metadata": {},
     "output_type": "display_data"
    }
   ],
   "source": [
    "from matplotlib.pyplot import figure\n",
    "from SWMat.SWMat import SWMat\n",
    "\n",
    "\n",
    "figure(figsize=(10, 7))\n",
    "plt.bar(labels, counts, alpha=0.7, width=0.6)\n",
    "\n",
    "\n",
    "plt.grid(True, alpha=0.3)\n",
    "plt.xlabel(\"Target  ->\", fontsize=14)\n",
    "plt.ylabel(\"Frequency  ->\", fontsize=14)\n",
    "plt.title(\"Target Frequencies\", fontsize=18)\n",
    "# Remove top and left spines:\n",
    "ax = plt.gca() # Get current axis (gca)\n",
    "ax.spines['right'].set_visible(False)\n",
    "ax.spines['top'].set_visible(False)\n",
    "\n",
    "# Adding annotations:\n",
    "plt.annotate(str(counts[0]), xy=(0, counts[0]), \n",
    "             xytext=(0,counts[0]+400), ha = 'center',\n",
    "             bbox={'boxstyle': 'round', 'pad': 0.5, 'facecolor': \n",
    "                   'orange', 'edgecolor': 'orange', 'alpha': 0.6},\n",
    "             arrowprops={'arrowstyle':\"wedge,tail_width=0.5\", \n",
    "                         'alpha':0.6, 'color': 'orange'})\n",
    "plt.annotate(str(counts[1]), xy=(1, counts[1]), \n",
    "             xytext=(1, counts[1]+400), ha = 'center',\n",
    "             bbox={'boxstyle': 'round', 'pad': 0.5, 'facecolor': \n",
    "                   'orange', 'edgecolor': 'orange', 'alpha': 0.6},\n",
    "             arrowprops={'arrowstyle':\"wedge,tail_width=0.5\", \n",
    "                         'alpha':0.6, 'color': 'orange'})\n",
    "# plt.annotate(str(counts[2]), xy=(2, counts[2]), \n",
    "#              xytext=(2, counts[2]+400), ha = 'center',\n",
    "#              bbox={'boxstyle': 'round', 'pad': 0.5, 'facecolor': \n",
    "#                    'orange', 'edgecolor': 'orange', 'alpha': 0.6},\n",
    "#              arrowprops={'arrowstyle':\"wedge,tail_width=0.5\", \n",
    "#                          'alpha':0.6, 'color': 'orange'})\n",
    "# plt.annotate(str(counts[3]), xy=(3, counts[3]), \n",
    "#              xytext=(3, counts[3]+400), ha = 'center',\n",
    "#              bbox={'boxstyle': 'round', 'pad': 0.5, 'facecolor': \n",
    "#                    'orange', 'edgecolor': 'orange', 'alpha': 0.6},\n",
    "#              arrowprops={'arrowstyle':\"wedge,tail_width=0.5\", \n",
    "#                          'alpha':0.6, 'color': 'orange'})\n",
    "# plt.annotate(str(counts[4]), xy=(4, counts[4]), \n",
    "#              xytext=(4, counts[4]+400), ha = 'center',\n",
    "#              bbox={'boxstyle': 'round', 'pad': 0.5, 'facecolor': \n",
    "#                    'orange', 'edgecolor': 'orange', 'alpha': 0.6},\n",
    "#              arrowprops={'arrowstyle':\"wedge,tail_width=0.5\", \n",
    "#                          'alpha':0.6, 'color': 'orange'})\n",
    "# plt.xticks(ticks=[0, 1, 2, 3, 4], labels=[\"0 - 1\", \"1 - 2\", \"2 - 3\",      \n",
    "#            \"3 - 4\", \"4 - 5\"], fontsize=12)\n",
    "# plt.ylim([0, 9500]);"
   ]
  },
  {
   "cell_type": "markdown",
   "metadata": {},
   "source": [
    "``` python\n",
    "# workclass\n",
    "pipeline = [\n",
    "        {'$match': {'work.workclass': 'Never_worked'}},\n",
    "        {'$group': {'_id': '$race', 'count': {'$sum': 1}}},\n",
    "        {\"$sort\": SON([(\"count\", pymongo.DESCENDING)])}\n",
    "    ]\n",
    "```\n"
   ]
  },
  {
   "cell_type": "code",
   "execution_count": null,
   "metadata": {},
   "outputs": [],
   "source": [
    "figure(figsize=(10, 7))\n",
    "sns.barplot(np.sort(data.unique()),data.value_counts().sort_index())\n",
    "plt.xlabel(\"Target  ->\")\n",
    "plt.ylabel(\"Frequency  ->\");"
   ]
  },
  {
   "cell_type": "markdown",
   "metadata": {},
   "source": [
    "#### 5.1.2 Numerical Variables"
   ]
  },
  {
   "cell_type": "code",
   "execution_count": 22,
   "metadata": {},
   "outputs": [
    {
     "data": {
      "text/plain": [
       "['ca', 'es']"
      ]
     },
     "execution_count": 22,
     "metadata": {},
     "output_type": "execute_result"
    }
   ],
   "source": [
    "podcasts_prep.distinct('languages')"
   ]
  },
  {
   "cell_type": "code",
   "execution_count": null,
   "metadata": {},
   "outputs": [],
   "source": [
    "podcasts_prep.distinct('media_type')"
   ]
  },
  {
   "cell_type": "code",
   "execution_count": null,
   "metadata": {},
   "outputs": [],
   "source": [
    "podcasts_prep.distinct('explicit')"
   ]
  },
  {
   "cell_type": "code",
   "execution_count": null,
   "metadata": {},
   "outputs": [],
   "source": [
    "podcasts_prep.distinct('date_precision')"
   ]
  },
  {
   "cell_type": "code",
   "execution_count": null,
   "metadata": {},
   "outputs": [],
   "source": [
    "podcasts_prep.find_one({'release_date':None})"
   ]
  },
  {
   "cell_type": "code",
   "execution_count": null,
   "metadata": {},
   "outputs": [],
   "source": [
    "# TODO:\n",
    "\n",
    "# Try to \"visualize\" each of the variables\n",
    "# Compare languages and comment\n",
    "# Episode frequency: total days / total episodes\n",
    "# Episode release dates -> compare most popular days, months\n",
    "# Year increase of podcasts\n",
    "#\n",
    "# Plus: genres?"
   ]
  },
  {
   "cell_type": "code",
   "execution_count": null,
   "metadata": {},
   "outputs": [],
   "source": [
    "### 5.2. "
   ]
  },
  {
   "cell_type": "markdown",
   "metadata": {
    "id": "2Kg_4HJLjiiZ"
   },
   "source": [
    "## 6. Conclusions"
   ]
  },
  {
   "cell_type": "markdown",
   "metadata": {
    "id": "yr7AYPtoiT2a"
   },
   "source": [
    "## References\n",
    "\n",
    "[1] https://finance.yahoo.com/news/spotifys-podcast-subscriptions-expand-global-173408899.html?guccounter=1\n",
    "\n",
    "\n",
    "[2] https://www.sec.gov/Archives/edgar/data/1639920/000119312521308632/d174858dex991.htm\n",
    "\n",
    "[3] https://www.podchaser.com/articles/inside-podchaser/podchaser-raises-4m\n",
    "\n",
    "[4] https://developer.spotify.com/documentation/web-api\n",
    "\n",
    "[5] https://developer.spotify.com/community/news/2020/03/20/introducing-podcasts-api/\n",
    "\n",
    "[6] https://podcasts.apple.com/es/genre/podcasts/id26\n",
    "\n",
    "[7] https://developer.apple.com/support/enrollment/"
   ]
  },
  {
   "cell_type": "code",
   "execution_count": null,
   "metadata": {},
   "outputs": [],
   "source": [
    "import pandas as pd\n",
    "import sqlite3\n",
    "import sqlalchemy \n",
    "\n",
    "try:\n",
    "    conn = sqlite3.connect(\"podcastindex_feeds.db\")    \n",
    "except Exception as e:\n",
    "    print(e)\n",
    "\n",
    "#Now in order to read in pandas dataframe we need to know table name\n",
    "cursor = conn.cursor()\n",
    "cursor.execute(\"SELECT name FROM sqlite_master WHERE type='table';\")\n",
    "print(f\"Table Name : {cursor.fetchall()}\")\n",
    "\n",
    "df = pd.read_sql_query('SELECT * FROM podcasts', conn)\n",
    "conn.close()"
   ]
  },
  {
   "cell_type": "code",
   "execution_count": null,
   "metadata": {},
   "outputs": [],
   "source": [
    "df.head()   # language\n",
    "\n",
    "rslt_df = df[df['language']=='ca']"
   ]
  },
  {
   "cell_type": "code",
   "execution_count": null,
   "metadata": {},
   "outputs": [],
   "source": [
    "len(rslt_df)"
   ]
  },
  {
   "cell_type": "code",
   "execution_count": null,
   "metadata": {},
   "outputs": [],
   "source": [
    "rslt_df = df[df['language']=='ca']\n",
    "print(len(rslt_df))"
   ]
  },
  {
   "cell_type": "code",
   "execution_count": null,
   "metadata": {},
   "outputs": [],
   "source": [
    "rslt_df = df[df['language']=='es']\n",
    "print(len(rslt_df))"
   ]
  },
  {
   "cell_type": "markdown",
   "metadata": {
    "id": "qPNJssqSlsPH"
   },
   "source": [
    "10.048.969 catalan speakers\n",
    "https://www.plataforma-llengua.cat/media/upload/pdf/informecat2018_1528713023.pdf\n",
    "\n",
    "A total of 580 million people speak Spanish in the world, 7.6% of the world’s population.\n",
    "https://blogs.cervantes.es/londres/2019/10/15/spanish-a-language-spoken-by-580-million-people-and-only-483-million-of-them-native/\n",
    "\n",
    "Spanish 2nd number of native spakers\n",
    "https://www.babbel.com/en/magazine/the-10-most-spoken-languages-in-the-world\n",
    "\n",
    "Spotify now offers podcasts\n",
    "https://www.theverge.com/2015/5/20/8629335/spotify-adds-podcasts-videoshttps://www.theverge.com/2015/5/20/8629335/spotify-adds-podcasts-videos\n",
    "\n",
    "[Test](#1.-Introduction)\n",
    "\n"
   ]
  }
 ],
 "metadata": {
  "colab": {
   "collapsed_sections": [],
   "name": "BDA-Final_Project.ipynb",
   "provenance": [],
   "toc_visible": true
  },
  "kernelspec": {
   "display_name": "Python 3",
   "language": "python",
   "name": "python3"
  },
  "language_info": {
   "codemirror_mode": {
    "name": "ipython",
    "version": 3
   },
   "file_extension": ".py",
   "mimetype": "text/x-python",
   "name": "python",
   "nbconvert_exporter": "python",
   "pygments_lexer": "ipython3",
   "version": "3.8.10"
  }
 },
 "nbformat": 4,
 "nbformat_minor": 4
}
