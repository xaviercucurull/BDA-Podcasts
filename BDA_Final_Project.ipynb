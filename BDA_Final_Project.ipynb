{
  "nbformat": 4,
  "nbformat_minor": 0,
  "metadata": {
    "colab": {
      "name": "BDA-Final_Project.ipynb",
      "provenance": [],
      "collapsed_sections": [],
      "toc_visible": true
    },
    "kernelspec": {
      "name": "python3",
      "display_name": "Python 3"
    },
    "language_info": {
      "name": "python"
    }
  },
  "cells": [
    {
      "cell_type": "markdown",
      "source": [
        "# BDA Final Project\n",
        "# Spotify Podcasts Analysis\n",
        "\n",
        "Xavier Cucurull Salamero\n",
        "\n",
        "December 2021"
      ],
      "metadata": {
        "id": "CX0ZDyhSi8-3"
      }
    },
    {
      "cell_type": "markdown",
      "source": [
        "10.048.969 catalan speakers\n",
        "https://www.plataforma-llengua.cat/media/upload/pdf/informecat2018_1528713023.pdf\n",
        "\n",
        "A total of 580 million people speak Spanish in the world, 7.6% of the world’s population.\n",
        "https://blogs.cervantes.es/londres/2019/10/15/spanish-a-language-spoken-by-580-million-people-and-only-483-million-of-them-native/\n",
        "\n",
        "Spanish 2nd number of native spakers\n",
        "https://www.babbel.com/en/magazine/the-10-most-spoken-languages-in-the-world\n",
        "\n"
      ],
      "metadata": {
        "id": "qPNJssqSlsPH"
      }
    },
    {
      "cell_type": "markdown",
      "source": [
        "## 1. Introduction\n",
        "\n",
        "Podcasts are an audio-only mean of communication that is rapidly growing. Spotify, one of the major audio streaming services has recently put more attention into podcasting. Last month the company expanded their Podcast Subscription program to global markets [1] and in the Q3 shareholder letter [2] pointed out that podcasts on Spotify are up to 3.2M from 2.9M the previous quarter, maintaining also a strong monthly active users engagement.\n",
        "\n",
        "With the growth of podcasting, getting insights on the market evolution is crucial for many stakeholders. Podchaser, the \"IMDb for podcasts\", which provides payment services targeted at marketers, PR firms, and other professionals to get relevant insights and metrics, announced in January $4M in funding [3].\n",
        "\n",
        "I am myself a podcast enthusiast and I have recently found myself consuming content that is only available online, as opposed to those podcasts that are also broadcast live on the radio, with some podcasts being Spotify exclusive. As a result, I thought that conducting an analysis on the podcast market could be really interesting. \n",
        "\n",
        "This project is divided in two parts. First, the development of a podcast scraper using the Spotify API [4] with the goal of constructing a database containing various information about the show such as name, publisher and release date. Second, a big data analysis on the obtained dataset, with the goal of getting insight on the evolution and current state of the podcast market. For simplicity, given the long processing time necessary to construct the database, the scope of the study has been narrowed down to podcasts in Catalan and Spanish, which are my two native languages.\n",
        "\n",
        "TODO: add diagram\n"
      ],
      "metadata": {
        "id": "KqAImhsNjKZk"
      }
    },
    {
      "cell_type": "markdown",
      "source": [
        "## 2. Data collection\n",
        "Being a Spotify user, I first searched for their API to see what could be done and I saw that last year Spotify introduced the podcasts API [5]. This seemed promising because compared to other services such as Podchaser, which has a limit of 25,000 monthly/requests on their free plan, Spotify desn't have any restrictions in terms of the total number of queries, only a quota related to the amount of requests that can be made in a 30 seconds window.\n",
        "\n",
        "The main Spotify web API function is \"Search\", which allows to get catalog information about albums, artists, playlists, tracks, shows or episodes that match a keyword string. So in order to get a list of all the podcasts in the Spotify catalog it was necessary to find those keywords that would retrieve them. With the API limit of 1000 responses for request this seemed like an impossible task. How could I think of those words or strings that would lead me to discover the titles of all the podcasts available? Before using the Spotify API to get information about the shows I needed to find a list of podcast names. To do that I thought of another podcast provider, Apple's iTunes [6]. Being part of the Apple Developer Program costs $99, which is not affordable for the scope of this project. Since I just needed to get a list of the names of all the podcasts available on the iTunes catalog, I could write a simple Python script to perform the web scraping. Once I got this list, I could search for each of the names using the Spotify API. Below theres a diagram of the database creation process.\n",
        "\n",
        "Given the relative simplicity of the database to create and because of the fact that only one database -the podcasts database- is needed, MongoDB has been chosen for the project. \n",
        "TODO more details?\n",
        "\n",
        "### Apple Podcasts scraper\n",
        "The first part of the database construction is the Apple Podcasts scraper. This Python script parses the Apple Podcasts page, exploring all the different categories, and creates a CSV table with the title and genre of all the podcasts in the catalog. The libraries used are ```requests``` and ```beautifulsoup```. This process results in 2M titles.\n",
        "\n",
        "The code of the script is available in TODO\n",
        "\n",
        "TODO: add processing time, example of output.\n",
        "\n",
        "\n",
        "### Spotify Podcasts scraper\n",
        "The second part of the database construction is the Spotify Podcast scraper. Using the list of Apple podcasts and the Spotify web API, this Python script iterates over each of the titles on the previously obtained table and uses the search api to get those shows that match the provided string. Since some titles availabe in the Apple podcast list might not be present in the Spotify catalog and vice-versa, for each given title a maximum (configurable) number of 10 shows are retrieved. This allows for more \"exploration\" of the Spotify catalog, being able to discover shows that were not present in the original podcasts list. When searching for a show, the Spotify API returns information about the **id**, the **name**, the **description**, the **publisher**, the **total number of episodes**, whether it is flagged as **explicit**, the **languages** and **media type**. In order to obtain information about the release date and the date of the last show, the next step is to retrieve the episodes corresponding to each of the show. Since getting episode information adds a lot of overhead to the database creation process, at this step shows with languages Catalan (\"ca\") or Spanish (\"es) are filtered. In addition, in order to reduce the number of API calls, only a maximum number of 100 episodes (containing the first and the last) are retrieved. With those episodes, we obtain the **release date** of the show, the **last date** the show streamed an episode and the **average duration** of the episodes. Finally, the show is added to the database. Since the show id is used as a unique id in the database, the addition of duplicate entries is avoided.\n",
        "\n",
        "The code of the script is available in [TODO] which implements the class ```SpotifyScraper```.\n",
        "\n",
        "TODO: give some more details about python class, execution time, problems.\n",
        "\n",
        "### MongoDB database"
      ],
      "metadata": {
        "id": "smt3fRXIjcqY"
      }
    },
    {
      "cell_type": "markdown",
      "source": [
        "## 3. Data description\n",
        "\n",
        "### 3.3. Missing values/outliers"
      ],
      "metadata": {
        "id": "PulRLCZGjd-w"
      }
    },
    {
      "cell_type": "markdown",
      "source": [
        "## 5. Data analysis\n",
        "Once the database is constructed, the data analysis is be performed in this Jupyter Notebook."
      ],
      "metadata": {
        "id": "KUn6qnVkjgtW"
      }
    },
    {
      "cell_type": "code",
      "source": [
        "import pymongo\n",
        "import json\n",
        "from bson.son import SON\n",
        "\n",
        "client = pymongo.MongoClient('localhost', 27017, username='mongoadmin', password='pass1234')\n",
        "\n",
        "# Get already created bda database\n",
        "database = client['finalproject']\n",
        "\n",
        "# let's create a new collection\n",
        "podcasts = database.podcasts"
      ],
      "metadata": {
        "id": "odgKOn5tqEru"
      },
      "execution_count": 1,
      "outputs": []
    },
    {
      "cell_type": "code",
      "source": [
        "print(podcasts.count_documents({}))"
      ],
      "metadata": {
        "colab": {
          "base_uri": "https://localhost:8080/",
          "height": 345
        },
        "id": "vjbgPz1sqR8J",
        "outputId": "0eebfde2-7557-4009-d780-31f3187243e5"
      },
      "execution_count": 3,
      "outputs": [
        {
          "output_type": "error",
          "ename": "ServerSelectionTimeoutError",
          "evalue": "ignored",
          "traceback": [
            "\u001b[0;31m---------------------------------------------------------------------------\u001b[0m",
            "\u001b[0;31mServerSelectionTimeoutError\u001b[0m               Traceback (most recent call last)",
            "\u001b[0;32m<ipython-input-3-2cb55d6f3a05>\u001b[0m in \u001b[0;36m<module>\u001b[0;34m()\u001b[0m\n\u001b[0;32m----> 1\u001b[0;31m \u001b[0mprint\u001b[0m\u001b[0;34m(\u001b[0m\u001b[0mpodcasts\u001b[0m\u001b[0;34m.\u001b[0m\u001b[0mcount_documents\u001b[0m\u001b[0;34m(\u001b[0m\u001b[0;34m{\u001b[0m\u001b[0;34m}\u001b[0m\u001b[0;34m)\u001b[0m\u001b[0;34m)\u001b[0m\u001b[0;34m\u001b[0m\u001b[0;34m\u001b[0m\u001b[0m\n\u001b[0m",
            "\u001b[0;32m/usr/local/lib/python3.7/dist-packages/pymongo/collection.py\u001b[0m in \u001b[0;36mcount_documents\u001b[0;34m(self, filter, session, **kwargs)\u001b[0m\n\u001b[1;32m   1826\u001b[0m \u001b[0;34m\u001b[0m\u001b[0m\n\u001b[1;32m   1827\u001b[0m         return self.__database.client._retryable_read(\n\u001b[0;32m-> 1828\u001b[0;31m             _cmd, self._read_preference_for(session), session)\n\u001b[0m\u001b[1;32m   1829\u001b[0m \u001b[0;34m\u001b[0m\u001b[0m\n\u001b[1;32m   1830\u001b[0m     \u001b[0;32mdef\u001b[0m \u001b[0mcount\u001b[0m\u001b[0;34m(\u001b[0m\u001b[0mself\u001b[0m\u001b[0;34m,\u001b[0m \u001b[0mfilter\u001b[0m\u001b[0;34m=\u001b[0m\u001b[0;32mNone\u001b[0m\u001b[0;34m,\u001b[0m \u001b[0msession\u001b[0m\u001b[0;34m=\u001b[0m\u001b[0;32mNone\u001b[0m\u001b[0;34m,\u001b[0m \u001b[0;34m**\u001b[0m\u001b[0mkwargs\u001b[0m\u001b[0;34m)\u001b[0m\u001b[0;34m:\u001b[0m\u001b[0;34m\u001b[0m\u001b[0;34m\u001b[0m\u001b[0m\n",
            "\u001b[0;32m/usr/local/lib/python3.7/dist-packages/pymongo/mongo_client.py\u001b[0m in \u001b[0;36m_retryable_read\u001b[0;34m(self, func, read_pref, session, address, retryable)\u001b[0m\n\u001b[1;32m   1513\u001b[0m             \u001b[0;32mtry\u001b[0m\u001b[0;34m:\u001b[0m\u001b[0;34m\u001b[0m\u001b[0;34m\u001b[0m\u001b[0m\n\u001b[1;32m   1514\u001b[0m                 server = self._select_server(\n\u001b[0;32m-> 1515\u001b[0;31m                     read_pref, session, address=address)\n\u001b[0m\u001b[1;32m   1516\u001b[0m                 \u001b[0;32mif\u001b[0m \u001b[0;32mnot\u001b[0m \u001b[0mserver\u001b[0m\u001b[0;34m.\u001b[0m\u001b[0mdescription\u001b[0m\u001b[0;34m.\u001b[0m\u001b[0mretryable_reads_supported\u001b[0m\u001b[0;34m:\u001b[0m\u001b[0;34m\u001b[0m\u001b[0;34m\u001b[0m\u001b[0m\n\u001b[1;32m   1517\u001b[0m                     \u001b[0mretryable\u001b[0m \u001b[0;34m=\u001b[0m \u001b[0;32mFalse\u001b[0m\u001b[0;34m\u001b[0m\u001b[0;34m\u001b[0m\u001b[0m\n",
            "\u001b[0;32m/usr/local/lib/python3.7/dist-packages/pymongo/mongo_client.py\u001b[0m in \u001b[0;36m_select_server\u001b[0;34m(self, server_selector, session, address)\u001b[0m\n\u001b[1;32m   1344\u001b[0m                                         % address)\n\u001b[1;32m   1345\u001b[0m             \u001b[0;32melse\u001b[0m\u001b[0;34m:\u001b[0m\u001b[0;34m\u001b[0m\u001b[0;34m\u001b[0m\u001b[0m\n\u001b[0;32m-> 1346\u001b[0;31m                 \u001b[0mserver\u001b[0m \u001b[0;34m=\u001b[0m \u001b[0mtopology\u001b[0m\u001b[0;34m.\u001b[0m\u001b[0mselect_server\u001b[0m\u001b[0;34m(\u001b[0m\u001b[0mserver_selector\u001b[0m\u001b[0;34m)\u001b[0m\u001b[0;34m\u001b[0m\u001b[0;34m\u001b[0m\u001b[0m\n\u001b[0m\u001b[1;32m   1347\u001b[0m             \u001b[0;32mreturn\u001b[0m \u001b[0mserver\u001b[0m\u001b[0;34m\u001b[0m\u001b[0;34m\u001b[0m\u001b[0m\n\u001b[1;32m   1348\u001b[0m         \u001b[0;32mexcept\u001b[0m \u001b[0mPyMongoError\u001b[0m \u001b[0;32mas\u001b[0m \u001b[0mexc\u001b[0m\u001b[0;34m:\u001b[0m\u001b[0;34m\u001b[0m\u001b[0;34m\u001b[0m\u001b[0m\n",
            "\u001b[0;32m/usr/local/lib/python3.7/dist-packages/pymongo/topology.py\u001b[0m in \u001b[0;36mselect_server\u001b[0;34m(self, selector, server_selection_timeout, address)\u001b[0m\n\u001b[1;32m    244\u001b[0m         return random.choice(self.select_servers(selector,\n\u001b[1;32m    245\u001b[0m                                                  \u001b[0mserver_selection_timeout\u001b[0m\u001b[0;34m,\u001b[0m\u001b[0;34m\u001b[0m\u001b[0;34m\u001b[0m\u001b[0m\n\u001b[0;32m--> 246\u001b[0;31m                                                  address))\n\u001b[0m\u001b[1;32m    247\u001b[0m \u001b[0;34m\u001b[0m\u001b[0m\n\u001b[1;32m    248\u001b[0m     def select_server_by_address(self, address,\n",
            "\u001b[0;32m/usr/local/lib/python3.7/dist-packages/pymongo/topology.py\u001b[0m in \u001b[0;36mselect_servers\u001b[0;34m(self, selector, server_selection_timeout, address)\u001b[0m\n\u001b[1;32m    201\u001b[0m         \u001b[0;32mwith\u001b[0m \u001b[0mself\u001b[0m\u001b[0;34m.\u001b[0m\u001b[0m_lock\u001b[0m\u001b[0;34m:\u001b[0m\u001b[0;34m\u001b[0m\u001b[0;34m\u001b[0m\u001b[0m\n\u001b[1;32m    202\u001b[0m             server_descriptions = self._select_servers_loop(\n\u001b[0;32m--> 203\u001b[0;31m                 selector, server_timeout, address)\n\u001b[0m\u001b[1;32m    204\u001b[0m \u001b[0;34m\u001b[0m\u001b[0m\n\u001b[1;32m    205\u001b[0m             return [self.get_server_by_address(sd.address)\n",
            "\u001b[0;32m/usr/local/lib/python3.7/dist-packages/pymongo/topology.py\u001b[0m in \u001b[0;36m_select_servers_loop\u001b[0;34m(self, selector, timeout, address)\u001b[0m\n\u001b[1;32m    218\u001b[0m                 raise ServerSelectionTimeoutError(\n\u001b[1;32m    219\u001b[0m                     \u001b[0;34m\"%s, Timeout: %ss, Topology Description: %r\"\u001b[0m \u001b[0;34m%\u001b[0m\u001b[0;34m\u001b[0m\u001b[0;34m\u001b[0m\u001b[0m\n\u001b[0;32m--> 220\u001b[0;31m                     (self._error_message(selector), timeout, self.description))\n\u001b[0m\u001b[1;32m    221\u001b[0m \u001b[0;34m\u001b[0m\u001b[0m\n\u001b[1;32m    222\u001b[0m             \u001b[0mself\u001b[0m\u001b[0;34m.\u001b[0m\u001b[0m_ensure_opened\u001b[0m\u001b[0;34m(\u001b[0m\u001b[0;34m)\u001b[0m\u001b[0;34m\u001b[0m\u001b[0;34m\u001b[0m\u001b[0m\n",
            "\u001b[0;31mServerSelectionTimeoutError\u001b[0m: localhost:27017: [Errno 111] Connection refused, Timeout: 30s, Topology Description: <TopologyDescription id: 61b83b972e7d53a2fe0ce462, topology_type: Single, servers: [<ServerDescription ('localhost', 27017) server_type: Unknown, rtt: None, error=AutoReconnect('localhost:27017: [Errno 111] Connection refused')>]>"
          ]
        }
      ]
    },
    {
      "cell_type": "markdown",
      "source": [
        "Missing values shall be specified as ```null``` in MongoDB. In pymongo these ```null``` values are interpreted as ```None``` so in our case, to find missing values using Python we will query for ```None``` values.\n",
        "\n",
        "Below we can observe an example wthat the 'native-country' field appears as ```None``` in the data loaded from the JSON.\n"
      ],
      "metadata": {
        "id": "vHeE2FGFqk_l"
      }
    },
    {
      "cell_type": "markdown",
      "source": [
        "## 6. Conclusions"
      ],
      "metadata": {
        "id": "2Kg_4HJLjiiZ"
      }
    },
    {
      "cell_type": "markdown",
      "source": [
        "1. Describe the problem, including any required background, and explain why you believe it is important / interesting.\n",
        "2. Collect the data and store it. Apply the techniques we have seen in the course. Relational vs. No-SQL, which one makes more sense?\n",
        "3. Describe the data for the reader. Which fields are included by default? Which are you going to use for your analysis? For example, Twitter includes geolocation information, but just on a very small number of tweets, and the detected language may not always be correct.\n",
        "4. Does the data publisher have any convention to indicate missing values? How are you going to treat them? Do you see any strange values that do not adhere to that convention (outliers)?\n",
        "5. Analyse your clean data set to answer the proposed problem.\n",
        "6. Conclusions.\n"
      ],
      "metadata": {
        "id": "dW1OOBG-i2Kv"
      }
    },
    {
      "cell_type": "markdown",
      "source": [
        "## References\n",
        "\n",
        "[1] https://finance.yahoo.com/news/spotifys-podcast-subscriptions-expand-global-173408899.html?guccounter=1\n",
        "\n",
        "\n",
        "[2] https://www.sec.gov/Archives/edgar/data/1639920/000119312521308632/d174858dex991.htm\n",
        "\n",
        "[3] https://www.podchaser.com/articles/inside-podchaser/podchaser-raises-4m\n",
        "\n",
        "[4] https://developer.spotify.com/documentation/web-api\n",
        "\n",
        "[5] https://developer.spotify.com/community/news/2020/03/20/introducing-podcasts-api/\n",
        "\n",
        "[6] https://podcasts.apple.com/es/genre/podcasts/id26"
      ],
      "metadata": {
        "id": "yr7AYPtoiT2a"
      }
    }
  ]
}