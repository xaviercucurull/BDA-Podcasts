{
 "cells": [
  {
   "cell_type": "markdown",
   "metadata": {},
   "source": [
    "# Lab 3 - Xavier Cucurull"
   ]
  },
  {
   "cell_type": "markdown",
   "metadata": {},
   "source": [
    "# NoSQL Databases\n",
    "\n",
    "In this lab we will focus on MongoDB, a document DB. If you want to read more on the topic you can visit their website [NoSQL explained](https://www.mongodb.com/nosql-explained). \n",
    "\n",
    "## Requirements\n",
    "- Python 3.x\n",
    "- MongoDB (<https://www.mongodb.com/>)\n",
    "- pymongo (MongoDB library for Python) (<https://pypi.org/project/pymongo/>)\n",
    "- Docker Engine\n",
    "\n",
    "## Setting up the container\n",
    "\n",
    "Let's pull the Mongo container image from the Docker registry\n",
    "\n",
    "```\n",
    "docker pull mongo\n",
    "```\n",
    "\n",
    "And start it:\n",
    "```\n",
    "docker run --name bda-mongo -e MONGO_INITDB_ROOT_USERNAME=mongoadmin -e MONGO_INITDB_ROOT_PASSWORD=pass1234 -d -p 27017:27017 mongo \n",
    "```\n",
    "\n",
    "Verify the container is running with:\n",
    "```\n",
    "docker ps\n",
    "```\n",
    "\n",
    "And you should see something like:\n",
    "```\n",
    "CONTAINER ID        IMAGE               COMMAND                  CREATED             STATUS              PORTS                      NAMES\n",
    "c85eb6cafd15        mongo               \"docker-entrypoint.s…\"   25 seconds ago      Up 8 seconds        0.0.0.0:27017->27017/tcp   bda-mongo\n",
    "```\n",
    "\n",
    "Notice the ports column, Docker is mapping the port 27017 on localhost to the container's port. This means that to reach the DB we just need to connect to localhost:27017.\n",
    "\n",
    "From now on, you can start and stop the container simply with:\n",
    "```\n",
    "docker start bda-mongo\n",
    "```\n",
    "\n",
    "```\n",
    "docker stop bda-mongo\n",
    "```"
   ]
  },
  {
   "cell_type": "markdown",
   "metadata": {},
   "source": [
    "## Exercise\n",
    "We will be working with the same dataset and questions we dealt with in the previous lab, so that you have some reference to work on (and check if your results match).\n",
    "\n",
    "We will use the [Adult UCI dataset](https://archive.ics.uci.edu/ml/datasets/adult) with a few modifications; download the following file: [data](./files/adults/adults.json)).\n",
    "\n",
    "Follow the instructions below and answer the questions. \n",
    "\n",
    "1. Load the dataset into the DB. How does Mongo treat missing values? Show a few samples.\n",
    "2. How many people under 18 years old have never worked? Of the never having worked people (all ages) is there any race bias (how many by race)? Is there any sex bias?\n",
    "3. Look at the hours per week of people with a paying job, by sex. Look at how many's income is above and below 50k. Compare and analyse.\n",
    "4. How many people with college education do manual labour?\n",
    "5. What is the minimum, mean and maximum capital gain and capital loss for every marital status?"
   ]
  },
  {
   "cell_type": "markdown",
   "metadata": {},
   "source": [
    "### 1. Load the dataset into the DB. How does Mongo treat missing values? Show a few samples."
   ]
  },
  {
   "cell_type": "code",
   "execution_count": 1,
   "metadata": {},
   "outputs": [],
   "source": [
    "import pymongo\n",
    "import json\n",
    "from bson.son import SON\n",
    "\n",
    "client = pymongo.MongoClient('localhost', 27017, username='mongoadmin', password='pass1234')\n",
    "\n",
    "# Get already created bda database\n",
    "database = client['bda']\n",
    "\n",
    "# let's create a new collection\n",
    "adults = database.adults\n",
    "\n",
    "# and load the data\n",
    "with open('./files/adults/adults.json', 'r') as f:\n",
    "    data = json.load(f)"
   ]
  },
  {
   "cell_type": "code",
   "execution_count": 2,
   "metadata": {},
   "outputs": [
    {
     "name": "stdout",
     "output_type": "stream",
     "text": [
      "{'age': 39, 'sex': 'Male', 'race': 'White', 'native_country': 'United_States', 'fnlwgt': 77516, 'education': {'education': 'Bachelors', 'num': 13}, 'relationship': {'marital_status': 'Never_married', 'relationship': 'Not_in_family'}, 'work': {'occupation': 'Adm_clerical', 'hours_per_week': 40, 'workclass': 'State_gov'}, 'finances': {'capital_gain': 2174, 'capital_loss': 0, 'predicted_income': '<=50K'}}\n"
     ]
    }
   ],
   "source": [
    "print(data['0'])"
   ]
  },
  {
   "cell_type": "code",
   "execution_count": 3,
   "metadata": {},
   "outputs": [],
   "source": [
    "# load the data\n",
    "adults_list = list(data.values())\n",
    "result = adults.insert_many(adults_list)"
   ]
  },
  {
   "cell_type": "markdown",
   "metadata": {},
   "source": [
    "Once the data is loaded into the database let's check that the number of documents corresponds to the number of elements of the input data:"
   ]
  },
  {
   "cell_type": "code",
   "execution_count": 4,
   "metadata": {},
   "outputs": [
    {
     "name": "stdout",
     "output_type": "stream",
     "text": [
      "32561\n",
      "32561\n"
     ]
    }
   ],
   "source": [
    "print(len(data))\n",
    "print(adults.count_documents({}))"
   ]
  },
  {
   "cell_type": "markdown",
   "metadata": {},
   "source": [
    "Missing values shall be specified as ```null``` in MongoDB. In pymongo these ```null``` values are interpreted as ```None``` so in our case, to find missing values using Python we will query for ```None``` values.\n",
    "\n",
    "Below we can observe an example wthat the 'native-country' field appears as ```None``` in the data loaded from the JSON.\n"
   ]
  },
  {
   "cell_type": "code",
   "execution_count": 5,
   "metadata": {
    "scrolled": true
   },
   "outputs": [
    {
     "name": "stdout",
     "output_type": "stream",
     "text": [
      "{'age': 40, 'sex': 'Male', 'race': 'Asian_Pac_Islander', 'native_country': None, 'fnlwgt': 121772, 'education': {'education': 'Assoc_voc', 'num': 11}, 'relationship': {'marital_status': 'Married_civ_spouse', 'relationship': 'Husband'}, 'work': {'occupation': 'Craft_repair', 'hours_per_week': 40, 'workclass': 'Private'}, 'finances': {'capital_gain': 0, 'capital_loss': 0, 'predicted_income': '>50K'}, '_id': ObjectId('617ec95891cb9557a47c8273')}\n"
     ]
    }
   ],
   "source": [
    "print(data['14'])"
   ]
  },
  {
   "cell_type": "markdown",
   "metadata": {},
   "source": [
    "We can query for ```'native-country': None``` and print some of the obtained results."
   ]
  },
  {
   "cell_type": "code",
   "execution_count": 6,
   "metadata": {
    "scrolled": true
   },
   "outputs": [
    {
     "data": {
      "text/plain": [
       "[{'_id': ObjectId('617ec95891cb9557a47c8265'), 'age': 39},\n",
       " {'_id': ObjectId('617ec95891cb9557a47c8266'), 'age': 50},\n",
       " {'_id': ObjectId('617ec95891cb9557a47c8267'), 'age': 38},\n",
       " {'_id': ObjectId('617ec95891cb9557a47c8268'), 'age': 53},\n",
       " {'_id': ObjectId('617ec95891cb9557a47c8269'), 'age': 28}]"
      ]
     },
     "execution_count": 6,
     "metadata": {},
     "output_type": "execute_result"
    }
   ],
   "source": [
    "res = adults.find({'native-country': None}, {'age' : 1, 'native-country': 1})\n",
    "list(res)[0:5]"
   ]
  },
  {
   "cell_type": "markdown",
   "metadata": {},
   "source": [
    "We can do the same for the work occupation."
   ]
  },
  {
   "cell_type": "code",
   "execution_count": 7,
   "metadata": {},
   "outputs": [
    {
     "data": {
      "text/plain": [
       "[{'_id': ObjectId('617ec95891cb9557a47c8280'),\n",
       "  'work': {'occupation': None, 'hours_per_week': 60, 'workclass': None}},\n",
       " {'_id': ObjectId('617ec95891cb9557a47c82a2'),\n",
       "  'work': {'occupation': None, 'hours_per_week': 40, 'workclass': None}},\n",
       " {'_id': ObjectId('617ec95891cb9557a47c82aa'),\n",
       "  'work': {'occupation': None, 'hours_per_week': 40, 'workclass': None}},\n",
       " {'_id': ObjectId('617ec95891cb9557a47c82b2'),\n",
       "  'work': {'occupation': None, 'hours_per_week': 2, 'workclass': None}},\n",
       " {'_id': ObjectId('617ec95891cb9557a47c82cf'),\n",
       "  'work': {'occupation': None, 'hours_per_week': 32, 'workclass': None}}]"
      ]
     },
     "execution_count": 7,
     "metadata": {},
     "output_type": "execute_result"
    }
   ],
   "source": [
    "res = adults.find({'work.occupation': None}, {'work': 1})\n",
    "list(res)[:5]"
   ]
  },
  {
   "cell_type": "markdown",
   "metadata": {},
   "source": [
    "### 2. How many people under 18 years old have never worked? Of the never having worked people (all ages) is there any race bias (how many by race)? Is there any sex bias?"
   ]
  },
  {
   "cell_type": "code",
   "execution_count": 27,
   "metadata": {},
   "outputs": [
    {
     "data": {
      "text/plain": [
       "1"
      ]
     },
     "execution_count": 27,
     "metadata": {},
     "output_type": "execute_result"
    }
   ],
   "source": [
    "# People under 18 years old that have never worked\n",
    "adults.count_documents({'$and': [\n",
    "                            {'age': {'$lt': 18}},\n",
    "                            {'work.workclass': 'Never_worked'}\n",
    "                            ]})"
   ]
  },
  {
   "cell_type": "markdown",
   "metadata": {},
   "source": [
    "There is only one person under 18 years old (17) that has never worked."
   ]
  },
  {
   "cell_type": "code",
   "execution_count": 28,
   "metadata": {},
   "outputs": [
    {
     "name": "stdout",
     "output_type": "stream",
     "text": [
      "{'_id': 'White', 'count': 5}\n",
      "{'_id': 'Black', 'count': 2}\n"
     ]
    }
   ],
   "source": [
    "# Never-worked grouped by race\n",
    "pipeline = [\n",
    "        {'$match': {'work.workclass': 'Never_worked'}},\n",
    "        {'$group': {'_id': '$race', 'count': {'$sum': 1}}},\n",
    "        {\"$sort\": SON([(\"count\", pymongo.DESCENDING)])}\n",
    "    ]\n",
    "\n",
    "res = adults.aggregate(pipeline)\n",
    "for sample in res:\n",
    "    print(sample)"
   ]
  },
  {
   "cell_type": "code",
   "execution_count": 29,
   "metadata": {},
   "outputs": [
    {
     "name": "stdout",
     "output_type": "stream",
     "text": [
      "{'_id': 'White', 'count': 27816}\n",
      "{'_id': 'Black', 'count': 3124}\n",
      "{'_id': 'Asian_Pac_Islander', 'count': 1039}\n",
      "{'_id': 'Amer_Indian_Eskimo', 'count': 311}\n",
      "{'_id': 'Other', 'count': 271}\n"
     ]
    }
   ],
   "source": [
    "# Compare against whole dataset\n",
    "pipeline = [\n",
    "        {'$group': {'_id': '$race', 'count': {'$sum': 1}}},\n",
    "        {\"$sort\": SON([(\"count\", pymongo.DESCENDING)])}\n",
    "    ]\n",
    "\n",
    "res = adults.aggregate(pipeline)\n",
    "for sample in res:\n",
    "    print(sample)"
   ]
  },
  {
   "cell_type": "markdown",
   "metadata": {},
   "source": [
    "For the workclass \"Never-worked\", the ratio of \"White\" to \"Black\" is of 2.5, while in the whole dataset \"White\" population is over-represented almost 9 times more. Although these numbers are not sufficient to confirm a bias it should be taken into account in further analyses."
   ]
  },
  {
   "cell_type": "code",
   "execution_count": 30,
   "metadata": {},
   "outputs": [
    {
     "name": "stdout",
     "output_type": "stream",
     "text": [
      "{'_id': 'Male', 'count': 5}\n",
      "{'_id': 'Female', 'count': 2}\n"
     ]
    }
   ],
   "source": [
    "# Never-worked grouped by sex\n",
    "pipeline = [\n",
    "        {'$match': {'work.workclass': 'Never_worked'}},\n",
    "        {'$group': {'_id': '$sex', 'count': {'$sum': 1}}},\n",
    "        {\"$sort\": SON([(\"count\", pymongo.DESCENDING)])}\n",
    "    ]\n",
    "\n",
    "res = adults.aggregate(pipeline)\n",
    "for sample in res:\n",
    "    print(sample)"
   ]
  },
  {
   "cell_type": "code",
   "execution_count": 31,
   "metadata": {},
   "outputs": [
    {
     "name": "stdout",
     "output_type": "stream",
     "text": [
      "{'_id': 'Male', 'count': 21790}\n",
      "{'_id': 'Female', 'count': 10771}\n"
     ]
    }
   ],
   "source": [
    "# Compare against whole dataset\n",
    "pipeline = [\n",
    "        {'$group': {'_id': '$sex', 'count': {'$sum': 1}}},\n",
    "        {\"$sort\": SON([(\"count\", pymongo.DESCENDING)])}\n",
    "    ]\n",
    "\n",
    "res = adults.aggregate(pipeline)\n",
    "for sample in res:\n",
    "    print(sample)"
   ]
  },
  {
   "cell_type": "markdown",
   "metadata": {},
   "source": [
    "We cannot say that there is a sex bias since the proportions are similar, although we can't really confirm or deny it because of the low number of samples."
   ]
  },
  {
   "cell_type": "markdown",
   "metadata": {},
   "source": [
    "### 3. Look at the hours per week of people with a paying job, by sex. Look at how many's income is above and below 50k. Compare and analyse."
   ]
  },
  {
   "cell_type": "markdown",
   "metadata": {},
   "source": [
    "As in previous labs, let's define *paying job* as all of those jobs which are not of type ```Without_pay``` or ```Never_worked```."
   ]
  },
  {
   "cell_type": "code",
   "execution_count": 32,
   "metadata": {
    "tags": []
   },
   "outputs": [
    {
     "name": "stdout",
     "output_type": "stream",
     "text": [
      "{'_id': 'Male', 'avgHours': 42.86072477020068}\n",
      "{'_id': 'Female', 'avgHours': 36.95919395465995}\n"
     ]
    }
   ],
   "source": [
    "# Average hours-per-week of paying job grouped by sex\n",
    "pipeline = [\n",
    "        {'$match': {'$and': [\n",
    "                            {'work.workclass': {'$ne': 'Without_pay'}},\n",
    "                            {'work.workclass': {'$ne': 'Never_worked'}},\n",
    "                            {'work.workclass': {'$ne': None}}\n",
    "                            ]}},\n",
    "        {'$group': {'_id': '$sex', 'avgHours': {'$avg': '$work.hours_per_week'}}},\n",
    "        {\"$sort\": SON([(\"avgHours\", pymongo.DESCENDING)])}    \n",
    "]\n",
    "\n",
    "res = adults.aggregate(pipeline)\n",
    "for sample in res:\n",
    "    print(sample)"
   ]
  },
  {
   "cell_type": "markdown",
   "metadata": {},
   "source": [
    "On average, men work 6 hours per week more than women."
   ]
  },
  {
   "cell_type": "code",
   "execution_count": 33,
   "metadata": {},
   "outputs": [
    {
     "name": "stdout",
     "output_type": "stream",
     "text": [
      "{'_id': {'income': '>50K', 'sex': 'Male'}, 'avgHours': 46.550513567376974}\n",
      "{'_id': {'income': '<=50K', 'sex': 'Male'}, 'avgHours': 41.17241863075196}\n",
      "{'_id': {'income': '>50K', 'sex': 'Female'}, 'avgHours': 40.817213842058564}\n",
      "{'_id': {'income': '<=50K', 'sex': 'Female'}, 'avgHours': 36.46499204364628}\n"
     ]
    }
   ],
   "source": [
    "# Average hours-per-week of paying job grouped by sex and workclass\n",
    "pipeline = [\n",
    "        {'$match': {'$and': [\n",
    "                            {'work.workclass': {'$ne': 'Without_pay'}},\n",
    "                            {'work.workclass': {'$ne': 'Never_worked'}},\n",
    "                            {'work.workclass': {'$ne': None}}\n",
    "                            ]}},\n",
    "        { \"$group\": {\n",
    "            \"_id\": {\n",
    "                \"income\": \"$finances.predicted_income\",\n",
    "                \"sex\": \"$sex\",\n",
    "            },\n",
    "            \"avgHours\": { \"$avg\": '$work.hours_per_week'}\n",
    "        }},\n",
    "    \n",
    "        {\"$sort\": SON([(\"avgHours\", pymongo.DESCENDING)])}    \n",
    "]\n",
    "\n",
    "res = adults.aggregate(pipeline)\n",
    "for sample in res:\n",
    "    print(sample)"
   ]
  },
  {
   "cell_type": "markdown",
   "metadata": {},
   "source": [
    "We can see a positive correlation between the hours worked and having an income of more than 50K, for both male and female. If we compare both sexes, we see that there is a higher percentage of men that earn more than 50K (31%) compared to women (11%). So it might be the case that the difference in incomes for both sexes is not only related to the hours worked. To further analyse the differences we can look at the hours worked and salaries by workclass."
   ]
  },
  {
   "cell_type": "code",
   "execution_count": 34,
   "metadata": {
    "scrolled": true
   },
   "outputs": [
    {
     "name": "stdout",
     "output_type": "stream",
     "text": [
      "{'_id': {'income': '>50K', 'sex': 'Male', 'workclass': 'Self_emp_inc'}, 'avgHours': 50.82788296041308}\n",
      "{'_id': {'income': '<=50K', 'sex': 'Male', 'workclass': 'Self_emp_inc'}, 'avgHours': 47.8675}\n",
      "{'_id': {'income': '>50K', 'sex': 'Male', 'workclass': 'Self_emp_not_inc'}, 'avgHours': 47.85202492211838}\n",
      "{'_id': {'income': '>50K', 'sex': 'Male', 'workclass': 'Private'}, 'avgHours': 46.314845409487845}\n",
      "{'_id': {'income': '>50K', 'sex': 'Male', 'workclass': 'State_gov'}, 'avgHours': 45.12280701754386}\n",
      "{'_id': {'income': '<=50K', 'sex': 'Male', 'workclass': 'Self_emp_not_inc'}, 'avgHours': 45.041333333333334}\n",
      "{'_id': {'income': '>50K', 'sex': 'Male', 'workclass': 'Local_gov'}, 'avgHours': 44.58099352051836}\n",
      "{'_id': {'income': '<=50K', 'sex': 'Female', 'workclass': 'Self_emp_inc'}, 'avgHours': 44.02127659574468}\n",
      "{'_id': {'income': '>50K', 'sex': 'Female', 'workclass': 'Federal_gov'}, 'avgHours': 43.732142857142854}\n",
      "{'_id': {'income': '>50K', 'sex': 'Male', 'workclass': 'Federal_gov'}, 'avgHours': 43.36507936507937}\n",
      "{'_id': {'income': '>50K', 'sex': 'Female', 'workclass': 'Local_gov'}, 'avgHours': 42.077922077922075}\n",
      "{'_id': {'income': '<=50K', 'sex': 'Male', 'workclass': 'Federal_gov'}, 'avgHours': 40.79090909090909}\n",
      "{'_id': {'income': '>50K', 'sex': 'Female', 'workclass': 'Private'}, 'avgHours': 40.75068870523416}\n",
      "{'_id': {'income': '<=50K', 'sex': 'Male', 'workclass': 'Local_gov'}, 'avgHours': 40.704402515723274}\n",
      "{'_id': {'income': '>50K', 'sex': 'Female', 'workclass': 'Self_emp_inc'}, 'avgHours': 40.609756097560975}\n",
      "{'_id': {'income': '<=50K', 'sex': 'Male', 'workclass': 'Private'}, 'avgHours': 40.60128887643597}\n",
      "{'_id': {'income': '>50K', 'sex': 'Female', 'workclass': 'State_gov'}, 'avgHours': 40.26470588235294}\n",
      "{'_id': {'income': '<=50K', 'sex': 'Female', 'workclass': 'Federal_gov'}, 'avgHours': 39.204633204633204}\n",
      "{'_id': {'income': '<=50K', 'sex': 'Female', 'workclass': 'Local_gov'}, 'avgHours': 38.61380323054332}\n",
      "{'_id': {'income': '>50K', 'sex': 'Female', 'workclass': 'Self_emp_not_inc'}, 'avgHours': 37.609756097560975}\n",
      "{'_id': {'income': '<=50K', 'sex': 'Male', 'workclass': 'State_gov'}, 'avgHours': 37.60687022900763}\n",
      "{'_id': {'income': '<=50K', 'sex': 'Female', 'workclass': 'State_gov'}, 'avgHours': 36.482185273159146}\n",
      "{'_id': {'income': '<=50K', 'sex': 'Female', 'workclass': 'Self_emp_not_inc'}, 'avgHours': 36.305993690851736}\n",
      "{'_id': {'income': '<=50K', 'sex': 'Female', 'workclass': 'Private'}, 'avgHours': 36.060774267008256}\n"
     ]
    }
   ],
   "source": [
    "# Average hours-per-week of paying job grouped by sex and workclass\n",
    "pipeline = [\n",
    "        {'$match': {'$and': [\n",
    "                            {'work.workclass': {'$ne': 'Without_pay'}},\n",
    "                            {'work.workclass': {'$ne': 'Never_worked'}},\n",
    "                            {'work.workclass': {'$ne': None}}\n",
    "                            ]}},\n",
    "        { \"$group\": {\n",
    "            \"_id\": {\n",
    "                \"income\": \"$finances.predicted_income\",\n",
    "                \"sex\": \"$sex\",\n",
    "                \"workclass\": \"$work.workclass\"\n",
    "            },\n",
    "            \"avgHours\": { \"$avg\": '$work.hours_per_week'}\n",
    "        }},\n",
    "    \n",
    "        {\"$sort\": SON([(\"avgHours\", pymongo.DESCENDING)])}    \n",
    "]\n",
    "\n",
    "res = adults.aggregate(pipeline)\n",
    "for sample in res:\n",
    "    print(sample)"
   ]
  },
  {
   "cell_type": "markdown",
   "metadata": {},
   "source": [
    "For example, federal-gov shows 56 women vs. 315 men, making more than 50K, who work the same hours on average. However, for the other workclasses, male that make more than 50K also work more hours on average that female who make more than 50K. Nevertheless, the proportion of men making more than 50K is higher than women for most of the workclasses."
   ]
  },
  {
   "cell_type": "markdown",
   "metadata": {},
   "source": [
    "### 4. How many people with college education do manual labour?"
   ]
  },
  {
   "cell_type": "markdown",
   "metadata": {},
   "source": [
    "First, we define manual labour as those jobs that are not *desk* jobs, being *desk* jobs ```Tech_support```, ```Sales```, ```Exec_managerial```, ```Prof_specialty```, ```Adm_clerical```. Then, to filter people with college education we can make use of the ```education.num``` variable."
   ]
  },
  {
   "cell_type": "code",
   "execution_count": 35,
   "metadata": {},
   "outputs": [
    {
     "name": "stdout",
     "output_type": "stream",
     "text": [
      "{'_id': {'occupation': 'Craft_repair'}, 'count': 1492}\n",
      "{'_id': {'occupation': 'Other_service'}, 'count': 1179}\n",
      "{'_id': {'occupation': 'Machine_op_inspct'}, 'count': 485}\n",
      "{'_id': {'occupation': 'Transport_moving'}, 'count': 426}\n",
      "{'_id': {'occupation': 'Protective_serv'}, 'count': 400}\n",
      "{'_id': {'occupation': 'Handlers_cleaners'}, 'count': 374}\n",
      "{'_id': {'occupation': 'Farming_fishing'}, 'count': 332}\n",
      "{'_id': {'occupation': 'Priv_house_serv'}, 'count': 30}\n",
      "{'_id': {'occupation': 'Armed_Forces'}, 'count': 4}\n",
      "\n",
      "4722 adults with college education do manual labour\n",
      "\n"
     ]
    }
   ],
   "source": [
    "# People with college education (or higher) that do manual jobs (don't do desk jobs)\n",
    "n = adults.count_documents({'$and': [\n",
    "                            {'education.num': {'$gte': 10}},\n",
    "                            {'work.occupation': {'$ne': 'Tech_support'}},\n",
    "                            {'work.occupation': {'$ne': 'Sales'}},\n",
    "                            {'work.occupation': {'$ne': 'Exec_managerial'}},\n",
    "                            {'work.occupation': {'$ne': 'Prof_specialty'}},\n",
    "                            {'work.occupation': {'$ne': 'Adm_clerical'}},\n",
    "                            {'work.occupation': {'$ne': None}}\n",
    "                            ]})\n",
    "\n",
    "# Grouped by occupation\n",
    "pipeline = [\n",
    "        {'$match': {'$and': [\n",
    "                            {'education.num': {'$gte': 10}},\n",
    "                            {'work.occupation': {'$ne': 'Tech_support'}},\n",
    "                            {'work.occupation': {'$ne': 'Sales'}},\n",
    "                            {'work.occupation': {'$ne': 'Exec_managerial'}},\n",
    "                            {'work.occupation': {'$ne': 'Prof_specialty'}},\n",
    "                            {'work.occupation': {'$ne': 'Adm_clerical'}},\n",
    "                            {'work.occupation': {'$ne': None}}\n",
    "                            ]}},\n",
    "        { \"$group\": {\n",
    "            \"_id\": {\"occupation\": \"$work.occupation\"},\n",
    "            \"count\": { \"$sum\": 1 }\n",
    "        }},\n",
    "    \n",
    "        {\"$sort\": SON([(\"count\", pymongo.DESCENDING)])}    \n",
    "]\n",
    "\n",
    "\n",
    "res = adults.aggregate(pipeline)\n",
    "\n",
    "for sample in res:\n",
    "    print(sample)\n",
    "    \n",
    "print(f'\\n{n} adults with college education do manual labour\\n')\n"
   ]
  },
  {
   "cell_type": "markdown",
   "metadata": {},
   "source": [
    "### 5. What is the minimum, mean and maximum capital gain and capital loss for every marital status?"
   ]
  },
  {
   "cell_type": "code",
   "execution_count": 36,
   "metadata": {
    "scrolled": true
   },
   "outputs": [
    {
     "name": "stdout",
     "output_type": "stream",
     "text": [
      "{'_id': {'maritalStatus': 'Married_civ_spouse'}, 'min_cap_gain': 0, 'max_cap_gain': 99999, 'avg_cap_gain': 1764.8595085470085, 'min_cap_loss': 0, 'max_cap_loss': 2603, 'avg_cap_loss': 122.43910256410257, 'count': 14976}\n",
      "{'_id': {'maritalStatus': 'Never_married'}, 'min_cap_gain': 0, 'max_cap_gain': 99999, 'avg_cap_gain': 376.58831788823363, 'min_cap_loss': 0, 'max_cap_loss': 3683, 'avg_cap_loss': 52.34550219975662, 'count': 10683}\n",
      "{'_id': {'maritalStatus': 'Divorced'}, 'min_cap_gain': 0, 'max_cap_gain': 99999, 'avg_cap_gain': 728.4148098131893, 'min_cap_loss': 0, 'max_cap_loss': 3900, 'avg_cap_loss': 64.60072023407608, 'count': 4443}\n",
      "{'_id': {'maritalStatus': 'Separated'}, 'min_cap_gain': 0, 'max_cap_gain': 99999, 'avg_cap_gain': 535.5687804878049, 'min_cap_loss': 0, 'max_cap_loss': 3900, 'avg_cap_loss': 58.110243902439024, 'count': 1025}\n",
      "{'_id': {'maritalStatus': 'Widowed'}, 'min_cap_gain': 0, 'max_cap_gain': 99999, 'avg_cap_gain': 571.0715005035247, 'min_cap_loss': 0, 'max_cap_loss': 4356, 'avg_cap_loss': 79.66666666666667, 'count': 993}\n",
      "{'_id': {'maritalStatus': 'Married_spouse_absent'}, 'min_cap_gain': 0, 'max_cap_gain': 99999, 'avg_cap_gain': 653.9832535885167, 'min_cap_loss': 0, 'max_cap_loss': 2472, 'avg_cap_loss': 57.7799043062201, 'count': 418}\n",
      "{'_id': {'maritalStatus': 'Married_AF_spouse'}, 'min_cap_gain': 0, 'max_cap_gain': 7298, 'avg_cap_gain': 432.6521739130435, 'min_cap_loss': 0, 'max_cap_loss': 0, 'avg_cap_loss': 0.0, 'count': 23}\n"
     ]
    }
   ],
   "source": [
    "# MIN, AVG and MAX capital-gain and capital-loss by marital status\n",
    "pipeline = [\n",
    "        { \"$group\": {\n",
    "            \"_id\": {\"maritalStatus\": \"$relationship.marital_status\"},\n",
    "            \"min_cap_gain\": { \"$min\": '$finances.capital_gain'},\n",
    "            \"max_cap_gain\": { \"$max\": '$finances.capital_gain'},\n",
    "            \"avg_cap_gain\": { \"$avg\": '$finances.capital_gain'},\n",
    "            \"min_cap_loss\": { \"$min\": '$finances.capital_loss'},\n",
    "            \"max_cap_loss\": { \"$max\": '$finances.capital_loss'},\n",
    "            \"avg_cap_loss\": { \"$avg\": '$finances.capital_loss'},\n",
    "            'count': {'$sum': 1}\n",
    "        }},\n",
    "    \n",
    "        {\"$sort\": SON([(\"count\", pymongo.DESCENDING)])}  \n",
    "]\n",
    "\n",
    "res = adults.aggregate(pipeline)\n",
    "for sample in res:\n",
    "    print(sample)"
   ]
  },
  {
   "cell_type": "markdown",
   "metadata": {},
   "source": [
    "To visualize it better we can create a Pandas DataFrame with the obtained command cursor."
   ]
  },
  {
   "cell_type": "code",
   "execution_count": 37,
   "metadata": {},
   "outputs": [
    {
     "data": {
      "text/html": [
       "<div>\n",
       "<style scoped>\n",
       "    .dataframe tbody tr th:only-of-type {\n",
       "        vertical-align: middle;\n",
       "    }\n",
       "\n",
       "    .dataframe tbody tr th {\n",
       "        vertical-align: top;\n",
       "    }\n",
       "\n",
       "    .dataframe thead th {\n",
       "        text-align: right;\n",
       "    }\n",
       "</style>\n",
       "<table border=\"1\" class=\"dataframe\">\n",
       "  <thead>\n",
       "    <tr style=\"text-align: right;\">\n",
       "      <th></th>\n",
       "      <th>_id</th>\n",
       "      <th>min_cap_gain</th>\n",
       "      <th>max_cap_gain</th>\n",
       "      <th>avg_cap_gain</th>\n",
       "      <th>min_cap_loss</th>\n",
       "      <th>max_cap_loss</th>\n",
       "      <th>avg_cap_loss</th>\n",
       "      <th>count</th>\n",
       "    </tr>\n",
       "  </thead>\n",
       "  <tbody>\n",
       "    <tr>\n",
       "      <th>0</th>\n",
       "      <td>{'maritalStatus': 'Married_civ_spouse'}</td>\n",
       "      <td>0</td>\n",
       "      <td>99999</td>\n",
       "      <td>1764.859509</td>\n",
       "      <td>0</td>\n",
       "      <td>2603</td>\n",
       "      <td>122.439103</td>\n",
       "      <td>14976</td>\n",
       "    </tr>\n",
       "    <tr>\n",
       "      <th>1</th>\n",
       "      <td>{'maritalStatus': 'Never_married'}</td>\n",
       "      <td>0</td>\n",
       "      <td>99999</td>\n",
       "      <td>376.588318</td>\n",
       "      <td>0</td>\n",
       "      <td>3683</td>\n",
       "      <td>52.345502</td>\n",
       "      <td>10683</td>\n",
       "    </tr>\n",
       "    <tr>\n",
       "      <th>2</th>\n",
       "      <td>{'maritalStatus': 'Divorced'}</td>\n",
       "      <td>0</td>\n",
       "      <td>99999</td>\n",
       "      <td>728.414810</td>\n",
       "      <td>0</td>\n",
       "      <td>3900</td>\n",
       "      <td>64.600720</td>\n",
       "      <td>4443</td>\n",
       "    </tr>\n",
       "    <tr>\n",
       "      <th>3</th>\n",
       "      <td>{'maritalStatus': 'Separated'}</td>\n",
       "      <td>0</td>\n",
       "      <td>99999</td>\n",
       "      <td>535.568780</td>\n",
       "      <td>0</td>\n",
       "      <td>3900</td>\n",
       "      <td>58.110244</td>\n",
       "      <td>1025</td>\n",
       "    </tr>\n",
       "    <tr>\n",
       "      <th>4</th>\n",
       "      <td>{'maritalStatus': 'Widowed'}</td>\n",
       "      <td>0</td>\n",
       "      <td>99999</td>\n",
       "      <td>571.071501</td>\n",
       "      <td>0</td>\n",
       "      <td>4356</td>\n",
       "      <td>79.666667</td>\n",
       "      <td>993</td>\n",
       "    </tr>\n",
       "    <tr>\n",
       "      <th>5</th>\n",
       "      <td>{'maritalStatus': 'Married_spouse_absent'}</td>\n",
       "      <td>0</td>\n",
       "      <td>99999</td>\n",
       "      <td>653.983254</td>\n",
       "      <td>0</td>\n",
       "      <td>2472</td>\n",
       "      <td>57.779904</td>\n",
       "      <td>418</td>\n",
       "    </tr>\n",
       "    <tr>\n",
       "      <th>6</th>\n",
       "      <td>{'maritalStatus': 'Married_AF_spouse'}</td>\n",
       "      <td>0</td>\n",
       "      <td>7298</td>\n",
       "      <td>432.652174</td>\n",
       "      <td>0</td>\n",
       "      <td>0</td>\n",
       "      <td>0.000000</td>\n",
       "      <td>23</td>\n",
       "    </tr>\n",
       "  </tbody>\n",
       "</table>\n",
       "</div>"
      ],
      "text/plain": [
       "                                          _id  min_cap_gain  max_cap_gain  \\\n",
       "0     {'maritalStatus': 'Married_civ_spouse'}             0         99999   \n",
       "1          {'maritalStatus': 'Never_married'}             0         99999   \n",
       "2               {'maritalStatus': 'Divorced'}             0         99999   \n",
       "3              {'maritalStatus': 'Separated'}             0         99999   \n",
       "4                {'maritalStatus': 'Widowed'}             0         99999   \n",
       "5  {'maritalStatus': 'Married_spouse_absent'}             0         99999   \n",
       "6      {'maritalStatus': 'Married_AF_spouse'}             0          7298   \n",
       "\n",
       "   avg_cap_gain  min_cap_loss  max_cap_loss  avg_cap_loss  count  \n",
       "0   1764.859509             0          2603    122.439103  14976  \n",
       "1    376.588318             0          3683     52.345502  10683  \n",
       "2    728.414810             0          3900     64.600720   4443  \n",
       "3    535.568780             0          3900     58.110244   1025  \n",
       "4    571.071501             0          4356     79.666667    993  \n",
       "5    653.983254             0          2472     57.779904    418  \n",
       "6    432.652174             0             0      0.000000     23  "
      ]
     },
     "execution_count": 37,
     "metadata": {},
     "output_type": "execute_result"
    }
   ],
   "source": [
    "import pandas as pd\n",
    "\n",
    "res = adults.aggregate(pipeline)\n",
    "df =  pd.DataFrame(list(res))\n",
    "df"
   ]
  },
  {
   "cell_type": "markdown",
   "metadata": {},
   "source": [
    "In order to draw conclusions from this data it is important to consider the number of examples from each category of marital-status. Some of them such as Married-AF-spouse or Married-spouse-absent contain too little examples to be used to extract meaningful knowledge. However, most people are either married with a civil spouse or never married, and from these two groups we clearly see that the average capital-loss and capital-gain are higher for married adults.\n",
    "\n",
    "Besides that, is a bit strange that the minimum capital gain and loss is always 0. Although not specified in the dataset description, this could in fact indicate missing values for these numeric columns."
   ]
  },
  {
   "cell_type": "markdown",
   "metadata": {},
   "source": [
    "Finally, we must close the connection to the database."
   ]
  },
  {
   "cell_type": "code",
   "execution_count": 38,
   "metadata": {},
   "outputs": [],
   "source": [
    "client.close()"
   ]
  }
 ],
 "metadata": {
  "kernelspec": {
   "display_name": "Python 3",
   "language": "python",
   "name": "python3"
  },
  "language_info": {
   "codemirror_mode": {
    "name": "ipython",
    "version": 3
   },
   "file_extension": ".py",
   "mimetype": "text/x-python",
   "name": "python",
   "nbconvert_exporter": "python",
   "pygments_lexer": "ipython3",
   "version": "3.8.10"
  },
  "varInspector": {
   "cols": {
    "lenName": 16,
    "lenType": 16,
    "lenVar": 40
   },
   "kernels_config": {
    "python": {
     "delete_cmd_postfix": "",
     "delete_cmd_prefix": "del ",
     "library": "var_list.py",
     "varRefreshCmd": "print(var_dic_list())"
    },
    "r": {
     "delete_cmd_postfix": ") ",
     "delete_cmd_prefix": "rm(",
     "library": "var_list.r",
     "varRefreshCmd": "cat(var_dic_list()) "
    }
   },
   "types_to_exclude": [
    "module",
    "function",
    "builtin_function_or_method",
    "instance",
    "_Feature"
   ],
   "window_display": false
  }
 },
 "nbformat": 4,
 "nbformat_minor": 4
}
